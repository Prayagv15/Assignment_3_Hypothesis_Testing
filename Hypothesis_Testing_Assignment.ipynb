{
  "nbformat": 4,
  "nbformat_minor": 0,
  "metadata": {
    "colab": {
      "provenance": []
    },
    "kernelspec": {
      "name": "python3",
      "display_name": "Python 3"
    },
    "language_info": {
      "name": "python"
    }
  },
  "cells": [
    {
      "cell_type": "code",
      "execution_count": 118,
      "metadata": {
        "id": "VnOb6XDTrlGJ"
      },
      "outputs": [],
      "source": [
        "# Importing Libraries.\n",
        "\n",
        "import numpy as np\n",
        "import pandas as pd\n",
        "\n",
        "import scipy.stats as stats\n",
        "import statsmodels.api as sm\n",
        "\n",
        "import warnings\n",
        "warnings.filterwarnings('ignore')\n",
        "\n",
        "from PIL import ImageGrab\n",
        "\n",
        "import matplotlib.pyplot as plt\n",
        "import seaborn as sns\n",
        "import scipy as sp"
      ]
    },
    {
      "cell_type": "markdown",
      "source": [
        "# ***Question 1***\n",
        "\n",
        "> # *A F&B manager wants to determine whether there is any significant difference in the diameter of the cutlet between two units. A randomly selected sample of cutlets was collected from both units and measured. Analyze the data and draw inferences at 5% significance level.*\n",
        "\n",
        "\n"
      ],
      "metadata": {
        "id": "PXrVv78OsL-t"
      }
    },
    {
      "cell_type": "markdown",
      "source": [
        "> Solution: We are going to conduct a 2 tailed t-test on two independent samples with numerical data."
      ],
      "metadata": {
        "id": "70QcsOiptQ4w"
      }
    },
    {
      "cell_type": "markdown",
      "source": [
        "# ***Step 1***\n",
        "\n",
        "Make two Null Hypothesis one contradicting to other.\n",
        "Null Hypothesis is we want to prove.\n",
        "\n",
        "\n",
        "\n",
        ">  1. Null Hypothesis: $M1=M2$\n",
        ">  2. Alternate Hypothesis: $M1\\neq M2$\n",
        "\n",
        "# ***Step 2***\n",
        "\n",
        "# Decide a cut-off value.\n",
        "\n",
        "> 1. Significance = 5%\n",
        "\n",
        "> 2. $\\alpha=0.05$\n",
        "\n",
        "> 3. As it is two-tailed test.\n",
        "$\\alpha/2 = 0.25$"
      ],
      "metadata": {
        "id": "QaOQXP_itjwJ"
      }
    },
    {
      "cell_type": "code",
      "source": [
        "from google.colab import files\n",
        "uploaded=files.upload()"
      ],
      "metadata": {
        "colab": {
          "base_uri": "https://localhost:8080/",
          "height": 74
        },
        "id": "VrlHlxAcubv7",
        "outputId": "0cb71b1d-65db-4442-be10-b8b4dbede785"
      },
      "execution_count": 2,
      "outputs": [
        {
          "output_type": "display_data",
          "data": {
            "text/plain": [
              "<IPython.core.display.HTML object>"
            ],
            "text/html": [
              "\n",
              "     <input type=\"file\" id=\"files-a7b6a4b2-2ad4-4cfd-9030-e10d91f92e8b\" name=\"files[]\" multiple disabled\n",
              "        style=\"border:none\" />\n",
              "     <output id=\"result-a7b6a4b2-2ad4-4cfd-9030-e10d91f92e8b\">\n",
              "      Upload widget is only available when the cell has been executed in the\n",
              "      current browser session. Please rerun this cell to enable.\n",
              "      </output>\n",
              "      <script>// Copyright 2017 Google LLC\n",
              "//\n",
              "// Licensed under the Apache License, Version 2.0 (the \"License\");\n",
              "// you may not use this file except in compliance with the License.\n",
              "// You may obtain a copy of the License at\n",
              "//\n",
              "//      http://www.apache.org/licenses/LICENSE-2.0\n",
              "//\n",
              "// Unless required by applicable law or agreed to in writing, software\n",
              "// distributed under the License is distributed on an \"AS IS\" BASIS,\n",
              "// WITHOUT WARRANTIES OR CONDITIONS OF ANY KIND, either express or implied.\n",
              "// See the License for the specific language governing permissions and\n",
              "// limitations under the License.\n",
              "\n",
              "/**\n",
              " * @fileoverview Helpers for google.colab Python module.\n",
              " */\n",
              "(function(scope) {\n",
              "function span(text, styleAttributes = {}) {\n",
              "  const element = document.createElement('span');\n",
              "  element.textContent = text;\n",
              "  for (const key of Object.keys(styleAttributes)) {\n",
              "    element.style[key] = styleAttributes[key];\n",
              "  }\n",
              "  return element;\n",
              "}\n",
              "\n",
              "// Max number of bytes which will be uploaded at a time.\n",
              "const MAX_PAYLOAD_SIZE = 100 * 1024;\n",
              "\n",
              "function _uploadFiles(inputId, outputId) {\n",
              "  const steps = uploadFilesStep(inputId, outputId);\n",
              "  const outputElement = document.getElementById(outputId);\n",
              "  // Cache steps on the outputElement to make it available for the next call\n",
              "  // to uploadFilesContinue from Python.\n",
              "  outputElement.steps = steps;\n",
              "\n",
              "  return _uploadFilesContinue(outputId);\n",
              "}\n",
              "\n",
              "// This is roughly an async generator (not supported in the browser yet),\n",
              "// where there are multiple asynchronous steps and the Python side is going\n",
              "// to poll for completion of each step.\n",
              "// This uses a Promise to block the python side on completion of each step,\n",
              "// then passes the result of the previous step as the input to the next step.\n",
              "function _uploadFilesContinue(outputId) {\n",
              "  const outputElement = document.getElementById(outputId);\n",
              "  const steps = outputElement.steps;\n",
              "\n",
              "  const next = steps.next(outputElement.lastPromiseValue);\n",
              "  return Promise.resolve(next.value.promise).then((value) => {\n",
              "    // Cache the last promise value to make it available to the next\n",
              "    // step of the generator.\n",
              "    outputElement.lastPromiseValue = value;\n",
              "    return next.value.response;\n",
              "  });\n",
              "}\n",
              "\n",
              "/**\n",
              " * Generator function which is called between each async step of the upload\n",
              " * process.\n",
              " * @param {string} inputId Element ID of the input file picker element.\n",
              " * @param {string} outputId Element ID of the output display.\n",
              " * @return {!Iterable<!Object>} Iterable of next steps.\n",
              " */\n",
              "function* uploadFilesStep(inputId, outputId) {\n",
              "  const inputElement = document.getElementById(inputId);\n",
              "  inputElement.disabled = false;\n",
              "\n",
              "  const outputElement = document.getElementById(outputId);\n",
              "  outputElement.innerHTML = '';\n",
              "\n",
              "  const pickedPromise = new Promise((resolve) => {\n",
              "    inputElement.addEventListener('change', (e) => {\n",
              "      resolve(e.target.files);\n",
              "    });\n",
              "  });\n",
              "\n",
              "  const cancel = document.createElement('button');\n",
              "  inputElement.parentElement.appendChild(cancel);\n",
              "  cancel.textContent = 'Cancel upload';\n",
              "  const cancelPromise = new Promise((resolve) => {\n",
              "    cancel.onclick = () => {\n",
              "      resolve(null);\n",
              "    };\n",
              "  });\n",
              "\n",
              "  // Wait for the user to pick the files.\n",
              "  const files = yield {\n",
              "    promise: Promise.race([pickedPromise, cancelPromise]),\n",
              "    response: {\n",
              "      action: 'starting',\n",
              "    }\n",
              "  };\n",
              "\n",
              "  cancel.remove();\n",
              "\n",
              "  // Disable the input element since further picks are not allowed.\n",
              "  inputElement.disabled = true;\n",
              "\n",
              "  if (!files) {\n",
              "    return {\n",
              "      response: {\n",
              "        action: 'complete',\n",
              "      }\n",
              "    };\n",
              "  }\n",
              "\n",
              "  for (const file of files) {\n",
              "    const li = document.createElement('li');\n",
              "    li.append(span(file.name, {fontWeight: 'bold'}));\n",
              "    li.append(span(\n",
              "        `(${file.type || 'n/a'}) - ${file.size} bytes, ` +\n",
              "        `last modified: ${\n",
              "            file.lastModifiedDate ? file.lastModifiedDate.toLocaleDateString() :\n",
              "                                    'n/a'} - `));\n",
              "    const percent = span('0% done');\n",
              "    li.appendChild(percent);\n",
              "\n",
              "    outputElement.appendChild(li);\n",
              "\n",
              "    const fileDataPromise = new Promise((resolve) => {\n",
              "      const reader = new FileReader();\n",
              "      reader.onload = (e) => {\n",
              "        resolve(e.target.result);\n",
              "      };\n",
              "      reader.readAsArrayBuffer(file);\n",
              "    });\n",
              "    // Wait for the data to be ready.\n",
              "    let fileData = yield {\n",
              "      promise: fileDataPromise,\n",
              "      response: {\n",
              "        action: 'continue',\n",
              "      }\n",
              "    };\n",
              "\n",
              "    // Use a chunked sending to avoid message size limits. See b/62115660.\n",
              "    let position = 0;\n",
              "    do {\n",
              "      const length = Math.min(fileData.byteLength - position, MAX_PAYLOAD_SIZE);\n",
              "      const chunk = new Uint8Array(fileData, position, length);\n",
              "      position += length;\n",
              "\n",
              "      const base64 = btoa(String.fromCharCode.apply(null, chunk));\n",
              "      yield {\n",
              "        response: {\n",
              "          action: 'append',\n",
              "          file: file.name,\n",
              "          data: base64,\n",
              "        },\n",
              "      };\n",
              "\n",
              "      let percentDone = fileData.byteLength === 0 ?\n",
              "          100 :\n",
              "          Math.round((position / fileData.byteLength) * 100);\n",
              "      percent.textContent = `${percentDone}% done`;\n",
              "\n",
              "    } while (position < fileData.byteLength);\n",
              "  }\n",
              "\n",
              "  // All done.\n",
              "  yield {\n",
              "    response: {\n",
              "      action: 'complete',\n",
              "    }\n",
              "  };\n",
              "}\n",
              "\n",
              "scope.google = scope.google || {};\n",
              "scope.google.colab = scope.google.colab || {};\n",
              "scope.google.colab._files = {\n",
              "  _uploadFiles,\n",
              "  _uploadFilesContinue,\n",
              "};\n",
              "})(self);\n",
              "</script> "
            ]
          },
          "metadata": {}
        },
        {
          "output_type": "stream",
          "name": "stdout",
          "text": [
            "Saving Cutlets.csv to Cutlets.csv\n"
          ]
        }
      ]
    },
    {
      "cell_type": "code",
      "source": [
        "cutlets=pd.read_csv(\"Cutlets.csv\")"
      ],
      "metadata": {
        "id": "bohoeMcIuskj"
      },
      "execution_count": 3,
      "outputs": []
    },
    {
      "cell_type": "code",
      "source": [
        "cutlets"
      ],
      "metadata": {
        "colab": {
          "base_uri": "https://localhost:8080/",
          "height": 1000
        },
        "id": "vroKyEzuuvTi",
        "outputId": "de99c5b6-2dd7-4d75-b8e4-643ff0e7817c"
      },
      "execution_count": 4,
      "outputs": [
        {
          "output_type": "execute_result",
          "data": {
            "text/plain": [
              "    Unit A  Unit B\n",
              "0   6.8090  6.7703\n",
              "1   6.4376  7.5093\n",
              "2   6.9157  6.7300\n",
              "3   7.3012  6.7878\n",
              "4   7.4488  7.1522\n",
              "5   7.3871  6.8110\n",
              "6   6.8755  7.2212\n",
              "7   7.0621  6.6606\n",
              "8   6.6840  7.2402\n",
              "9   6.8236  7.0503\n",
              "10  7.3930  6.8810\n",
              "11  7.5169  7.4059\n",
              "12  6.9246  6.7652\n",
              "13  6.9256  6.0380\n",
              "14  6.5797  7.1581\n",
              "15  6.8394  7.0240\n",
              "16  6.5970  6.6672\n",
              "17  7.2705  7.4314\n",
              "18  7.2828  7.3070\n",
              "19  7.3495  6.7478\n",
              "20  6.9438  6.8889\n",
              "21  7.1560  7.4220\n",
              "22  6.5341  6.5217\n",
              "23  7.2854  7.1688\n",
              "24  6.9952  6.7594\n",
              "25  6.8568  6.9399\n",
              "26  7.2163  7.0133\n",
              "27  6.6801  6.9182\n",
              "28  6.9431  6.3346\n",
              "29  7.0852  7.5459\n",
              "30  6.7794  7.0992\n",
              "31  7.2783  7.1180\n",
              "32  7.1561  6.6965\n",
              "33  7.3943  6.5780\n",
              "34  6.9405  7.3875"
            ],
            "text/html": [
              "\n",
              "  <div id=\"df-9d113f4c-79d7-4f48-8cf3-c5bdf53daba9\">\n",
              "    <div class=\"colab-df-container\">\n",
              "      <div>\n",
              "<style scoped>\n",
              "    .dataframe tbody tr th:only-of-type {\n",
              "        vertical-align: middle;\n",
              "    }\n",
              "\n",
              "    .dataframe tbody tr th {\n",
              "        vertical-align: top;\n",
              "    }\n",
              "\n",
              "    .dataframe thead th {\n",
              "        text-align: right;\n",
              "    }\n",
              "</style>\n",
              "<table border=\"1\" class=\"dataframe\">\n",
              "  <thead>\n",
              "    <tr style=\"text-align: right;\">\n",
              "      <th></th>\n",
              "      <th>Unit A</th>\n",
              "      <th>Unit B</th>\n",
              "    </tr>\n",
              "  </thead>\n",
              "  <tbody>\n",
              "    <tr>\n",
              "      <th>0</th>\n",
              "      <td>6.8090</td>\n",
              "      <td>6.7703</td>\n",
              "    </tr>\n",
              "    <tr>\n",
              "      <th>1</th>\n",
              "      <td>6.4376</td>\n",
              "      <td>7.5093</td>\n",
              "    </tr>\n",
              "    <tr>\n",
              "      <th>2</th>\n",
              "      <td>6.9157</td>\n",
              "      <td>6.7300</td>\n",
              "    </tr>\n",
              "    <tr>\n",
              "      <th>3</th>\n",
              "      <td>7.3012</td>\n",
              "      <td>6.7878</td>\n",
              "    </tr>\n",
              "    <tr>\n",
              "      <th>4</th>\n",
              "      <td>7.4488</td>\n",
              "      <td>7.1522</td>\n",
              "    </tr>\n",
              "    <tr>\n",
              "      <th>5</th>\n",
              "      <td>7.3871</td>\n",
              "      <td>6.8110</td>\n",
              "    </tr>\n",
              "    <tr>\n",
              "      <th>6</th>\n",
              "      <td>6.8755</td>\n",
              "      <td>7.2212</td>\n",
              "    </tr>\n",
              "    <tr>\n",
              "      <th>7</th>\n",
              "      <td>7.0621</td>\n",
              "      <td>6.6606</td>\n",
              "    </tr>\n",
              "    <tr>\n",
              "      <th>8</th>\n",
              "      <td>6.6840</td>\n",
              "      <td>7.2402</td>\n",
              "    </tr>\n",
              "    <tr>\n",
              "      <th>9</th>\n",
              "      <td>6.8236</td>\n",
              "      <td>7.0503</td>\n",
              "    </tr>\n",
              "    <tr>\n",
              "      <th>10</th>\n",
              "      <td>7.3930</td>\n",
              "      <td>6.8810</td>\n",
              "    </tr>\n",
              "    <tr>\n",
              "      <th>11</th>\n",
              "      <td>7.5169</td>\n",
              "      <td>7.4059</td>\n",
              "    </tr>\n",
              "    <tr>\n",
              "      <th>12</th>\n",
              "      <td>6.9246</td>\n",
              "      <td>6.7652</td>\n",
              "    </tr>\n",
              "    <tr>\n",
              "      <th>13</th>\n",
              "      <td>6.9256</td>\n",
              "      <td>6.0380</td>\n",
              "    </tr>\n",
              "    <tr>\n",
              "      <th>14</th>\n",
              "      <td>6.5797</td>\n",
              "      <td>7.1581</td>\n",
              "    </tr>\n",
              "    <tr>\n",
              "      <th>15</th>\n",
              "      <td>6.8394</td>\n",
              "      <td>7.0240</td>\n",
              "    </tr>\n",
              "    <tr>\n",
              "      <th>16</th>\n",
              "      <td>6.5970</td>\n",
              "      <td>6.6672</td>\n",
              "    </tr>\n",
              "    <tr>\n",
              "      <th>17</th>\n",
              "      <td>7.2705</td>\n",
              "      <td>7.4314</td>\n",
              "    </tr>\n",
              "    <tr>\n",
              "      <th>18</th>\n",
              "      <td>7.2828</td>\n",
              "      <td>7.3070</td>\n",
              "    </tr>\n",
              "    <tr>\n",
              "      <th>19</th>\n",
              "      <td>7.3495</td>\n",
              "      <td>6.7478</td>\n",
              "    </tr>\n",
              "    <tr>\n",
              "      <th>20</th>\n",
              "      <td>6.9438</td>\n",
              "      <td>6.8889</td>\n",
              "    </tr>\n",
              "    <tr>\n",
              "      <th>21</th>\n",
              "      <td>7.1560</td>\n",
              "      <td>7.4220</td>\n",
              "    </tr>\n",
              "    <tr>\n",
              "      <th>22</th>\n",
              "      <td>6.5341</td>\n",
              "      <td>6.5217</td>\n",
              "    </tr>\n",
              "    <tr>\n",
              "      <th>23</th>\n",
              "      <td>7.2854</td>\n",
              "      <td>7.1688</td>\n",
              "    </tr>\n",
              "    <tr>\n",
              "      <th>24</th>\n",
              "      <td>6.9952</td>\n",
              "      <td>6.7594</td>\n",
              "    </tr>\n",
              "    <tr>\n",
              "      <th>25</th>\n",
              "      <td>6.8568</td>\n",
              "      <td>6.9399</td>\n",
              "    </tr>\n",
              "    <tr>\n",
              "      <th>26</th>\n",
              "      <td>7.2163</td>\n",
              "      <td>7.0133</td>\n",
              "    </tr>\n",
              "    <tr>\n",
              "      <th>27</th>\n",
              "      <td>6.6801</td>\n",
              "      <td>6.9182</td>\n",
              "    </tr>\n",
              "    <tr>\n",
              "      <th>28</th>\n",
              "      <td>6.9431</td>\n",
              "      <td>6.3346</td>\n",
              "    </tr>\n",
              "    <tr>\n",
              "      <th>29</th>\n",
              "      <td>7.0852</td>\n",
              "      <td>7.5459</td>\n",
              "    </tr>\n",
              "    <tr>\n",
              "      <th>30</th>\n",
              "      <td>6.7794</td>\n",
              "      <td>7.0992</td>\n",
              "    </tr>\n",
              "    <tr>\n",
              "      <th>31</th>\n",
              "      <td>7.2783</td>\n",
              "      <td>7.1180</td>\n",
              "    </tr>\n",
              "    <tr>\n",
              "      <th>32</th>\n",
              "      <td>7.1561</td>\n",
              "      <td>6.6965</td>\n",
              "    </tr>\n",
              "    <tr>\n",
              "      <th>33</th>\n",
              "      <td>7.3943</td>\n",
              "      <td>6.5780</td>\n",
              "    </tr>\n",
              "    <tr>\n",
              "      <th>34</th>\n",
              "      <td>6.9405</td>\n",
              "      <td>7.3875</td>\n",
              "    </tr>\n",
              "  </tbody>\n",
              "</table>\n",
              "</div>\n",
              "      <button class=\"colab-df-convert\" onclick=\"convertToInteractive('df-9d113f4c-79d7-4f48-8cf3-c5bdf53daba9')\"\n",
              "              title=\"Convert this dataframe to an interactive table.\"\n",
              "              style=\"display:none;\">\n",
              "        \n",
              "  <svg xmlns=\"http://www.w3.org/2000/svg\" height=\"24px\"viewBox=\"0 0 24 24\"\n",
              "       width=\"24px\">\n",
              "    <path d=\"M0 0h24v24H0V0z\" fill=\"none\"/>\n",
              "    <path d=\"M18.56 5.44l.94 2.06.94-2.06 2.06-.94-2.06-.94-.94-2.06-.94 2.06-2.06.94zm-11 1L8.5 8.5l.94-2.06 2.06-.94-2.06-.94L8.5 2.5l-.94 2.06-2.06.94zm10 10l.94 2.06.94-2.06 2.06-.94-2.06-.94-.94-2.06-.94 2.06-2.06.94z\"/><path d=\"M17.41 7.96l-1.37-1.37c-.4-.4-.92-.59-1.43-.59-.52 0-1.04.2-1.43.59L10.3 9.45l-7.72 7.72c-.78.78-.78 2.05 0 2.83L4 21.41c.39.39.9.59 1.41.59.51 0 1.02-.2 1.41-.59l7.78-7.78 2.81-2.81c.8-.78.8-2.07 0-2.86zM5.41 20L4 18.59l7.72-7.72 1.47 1.35L5.41 20z\"/>\n",
              "  </svg>\n",
              "      </button>\n",
              "      \n",
              "  <style>\n",
              "    .colab-df-container {\n",
              "      display:flex;\n",
              "      flex-wrap:wrap;\n",
              "      gap: 12px;\n",
              "    }\n",
              "\n",
              "    .colab-df-convert {\n",
              "      background-color: #E8F0FE;\n",
              "      border: none;\n",
              "      border-radius: 50%;\n",
              "      cursor: pointer;\n",
              "      display: none;\n",
              "      fill: #1967D2;\n",
              "      height: 32px;\n",
              "      padding: 0 0 0 0;\n",
              "      width: 32px;\n",
              "    }\n",
              "\n",
              "    .colab-df-convert:hover {\n",
              "      background-color: #E2EBFA;\n",
              "      box-shadow: 0px 1px 2px rgba(60, 64, 67, 0.3), 0px 1px 3px 1px rgba(60, 64, 67, 0.15);\n",
              "      fill: #174EA6;\n",
              "    }\n",
              "\n",
              "    [theme=dark] .colab-df-convert {\n",
              "      background-color: #3B4455;\n",
              "      fill: #D2E3FC;\n",
              "    }\n",
              "\n",
              "    [theme=dark] .colab-df-convert:hover {\n",
              "      background-color: #434B5C;\n",
              "      box-shadow: 0px 1px 3px 1px rgba(0, 0, 0, 0.15);\n",
              "      filter: drop-shadow(0px 1px 2px rgba(0, 0, 0, 0.3));\n",
              "      fill: #FFFFFF;\n",
              "    }\n",
              "  </style>\n",
              "\n",
              "      <script>\n",
              "        const buttonEl =\n",
              "          document.querySelector('#df-9d113f4c-79d7-4f48-8cf3-c5bdf53daba9 button.colab-df-convert');\n",
              "        buttonEl.style.display =\n",
              "          google.colab.kernel.accessAllowed ? 'block' : 'none';\n",
              "\n",
              "        async function convertToInteractive(key) {\n",
              "          const element = document.querySelector('#df-9d113f4c-79d7-4f48-8cf3-c5bdf53daba9');\n",
              "          const dataTable =\n",
              "            await google.colab.kernel.invokeFunction('convertToInteractive',\n",
              "                                                     [key], {});\n",
              "          if (!dataTable) return;\n",
              "\n",
              "          const docLinkHtml = 'Like what you see? Visit the ' +\n",
              "            '<a target=\"_blank\" href=https://colab.research.google.com/notebooks/data_table.ipynb>data table notebook</a>'\n",
              "            + ' to learn more about interactive tables.';\n",
              "          element.innerHTML = '';\n",
              "          dataTable['output_type'] = 'display_data';\n",
              "          await google.colab.output.renderOutput(dataTable, element);\n",
              "          const docLink = document.createElement('div');\n",
              "          docLink.innerHTML = docLinkHtml;\n",
              "          element.appendChild(docLink);\n",
              "        }\n",
              "      </script>\n",
              "    </div>\n",
              "  </div>\n",
              "  "
            ]
          },
          "metadata": {},
          "execution_count": 4
        }
      ]
    },
    {
      "cell_type": "code",
      "source": [
        "cutlets.describe()"
      ],
      "metadata": {
        "colab": {
          "base_uri": "https://localhost:8080/",
          "height": 300
        },
        "id": "3juMYvtcu1WK",
        "outputId": "dfd24973-c48f-4c04-a80f-c51a46338504"
      },
      "execution_count": 5,
      "outputs": [
        {
          "output_type": "execute_result",
          "data": {
            "text/plain": [
              "          Unit A     Unit B\n",
              "count  35.000000  35.000000\n",
              "mean    7.019091   6.964297\n",
              "std     0.288408   0.343401\n",
              "min     6.437600   6.038000\n",
              "25%     6.831500   6.753600\n",
              "50%     6.943800   6.939900\n",
              "75%     7.280550   7.195000\n",
              "max     7.516900   7.545900"
            ],
            "text/html": [
              "\n",
              "  <div id=\"df-0fac01b1-c92b-44a1-90dd-812ec2fe0b66\">\n",
              "    <div class=\"colab-df-container\">\n",
              "      <div>\n",
              "<style scoped>\n",
              "    .dataframe tbody tr th:only-of-type {\n",
              "        vertical-align: middle;\n",
              "    }\n",
              "\n",
              "    .dataframe tbody tr th {\n",
              "        vertical-align: top;\n",
              "    }\n",
              "\n",
              "    .dataframe thead th {\n",
              "        text-align: right;\n",
              "    }\n",
              "</style>\n",
              "<table border=\"1\" class=\"dataframe\">\n",
              "  <thead>\n",
              "    <tr style=\"text-align: right;\">\n",
              "      <th></th>\n",
              "      <th>Unit A</th>\n",
              "      <th>Unit B</th>\n",
              "    </tr>\n",
              "  </thead>\n",
              "  <tbody>\n",
              "    <tr>\n",
              "      <th>count</th>\n",
              "      <td>35.000000</td>\n",
              "      <td>35.000000</td>\n",
              "    </tr>\n",
              "    <tr>\n",
              "      <th>mean</th>\n",
              "      <td>7.019091</td>\n",
              "      <td>6.964297</td>\n",
              "    </tr>\n",
              "    <tr>\n",
              "      <th>std</th>\n",
              "      <td>0.288408</td>\n",
              "      <td>0.343401</td>\n",
              "    </tr>\n",
              "    <tr>\n",
              "      <th>min</th>\n",
              "      <td>6.437600</td>\n",
              "      <td>6.038000</td>\n",
              "    </tr>\n",
              "    <tr>\n",
              "      <th>25%</th>\n",
              "      <td>6.831500</td>\n",
              "      <td>6.753600</td>\n",
              "    </tr>\n",
              "    <tr>\n",
              "      <th>50%</th>\n",
              "      <td>6.943800</td>\n",
              "      <td>6.939900</td>\n",
              "    </tr>\n",
              "    <tr>\n",
              "      <th>75%</th>\n",
              "      <td>7.280550</td>\n",
              "      <td>7.195000</td>\n",
              "    </tr>\n",
              "    <tr>\n",
              "      <th>max</th>\n",
              "      <td>7.516900</td>\n",
              "      <td>7.545900</td>\n",
              "    </tr>\n",
              "  </tbody>\n",
              "</table>\n",
              "</div>\n",
              "      <button class=\"colab-df-convert\" onclick=\"convertToInteractive('df-0fac01b1-c92b-44a1-90dd-812ec2fe0b66')\"\n",
              "              title=\"Convert this dataframe to an interactive table.\"\n",
              "              style=\"display:none;\">\n",
              "        \n",
              "  <svg xmlns=\"http://www.w3.org/2000/svg\" height=\"24px\"viewBox=\"0 0 24 24\"\n",
              "       width=\"24px\">\n",
              "    <path d=\"M0 0h24v24H0V0z\" fill=\"none\"/>\n",
              "    <path d=\"M18.56 5.44l.94 2.06.94-2.06 2.06-.94-2.06-.94-.94-2.06-.94 2.06-2.06.94zm-11 1L8.5 8.5l.94-2.06 2.06-.94-2.06-.94L8.5 2.5l-.94 2.06-2.06.94zm10 10l.94 2.06.94-2.06 2.06-.94-2.06-.94-.94-2.06-.94 2.06-2.06.94z\"/><path d=\"M17.41 7.96l-1.37-1.37c-.4-.4-.92-.59-1.43-.59-.52 0-1.04.2-1.43.59L10.3 9.45l-7.72 7.72c-.78.78-.78 2.05 0 2.83L4 21.41c.39.39.9.59 1.41.59.51 0 1.02-.2 1.41-.59l7.78-7.78 2.81-2.81c.8-.78.8-2.07 0-2.86zM5.41 20L4 18.59l7.72-7.72 1.47 1.35L5.41 20z\"/>\n",
              "  </svg>\n",
              "      </button>\n",
              "      \n",
              "  <style>\n",
              "    .colab-df-container {\n",
              "      display:flex;\n",
              "      flex-wrap:wrap;\n",
              "      gap: 12px;\n",
              "    }\n",
              "\n",
              "    .colab-df-convert {\n",
              "      background-color: #E8F0FE;\n",
              "      border: none;\n",
              "      border-radius: 50%;\n",
              "      cursor: pointer;\n",
              "      display: none;\n",
              "      fill: #1967D2;\n",
              "      height: 32px;\n",
              "      padding: 0 0 0 0;\n",
              "      width: 32px;\n",
              "    }\n",
              "\n",
              "    .colab-df-convert:hover {\n",
              "      background-color: #E2EBFA;\n",
              "      box-shadow: 0px 1px 2px rgba(60, 64, 67, 0.3), 0px 1px 3px 1px rgba(60, 64, 67, 0.15);\n",
              "      fill: #174EA6;\n",
              "    }\n",
              "\n",
              "    [theme=dark] .colab-df-convert {\n",
              "      background-color: #3B4455;\n",
              "      fill: #D2E3FC;\n",
              "    }\n",
              "\n",
              "    [theme=dark] .colab-df-convert:hover {\n",
              "      background-color: #434B5C;\n",
              "      box-shadow: 0px 1px 3px 1px rgba(0, 0, 0, 0.15);\n",
              "      filter: drop-shadow(0px 1px 2px rgba(0, 0, 0, 0.3));\n",
              "      fill: #FFFFFF;\n",
              "    }\n",
              "  </style>\n",
              "\n",
              "      <script>\n",
              "        const buttonEl =\n",
              "          document.querySelector('#df-0fac01b1-c92b-44a1-90dd-812ec2fe0b66 button.colab-df-convert');\n",
              "        buttonEl.style.display =\n",
              "          google.colab.kernel.accessAllowed ? 'block' : 'none';\n",
              "\n",
              "        async function convertToInteractive(key) {\n",
              "          const element = document.querySelector('#df-0fac01b1-c92b-44a1-90dd-812ec2fe0b66');\n",
              "          const dataTable =\n",
              "            await google.colab.kernel.invokeFunction('convertToInteractive',\n",
              "                                                     [key], {});\n",
              "          if (!dataTable) return;\n",
              "\n",
              "          const docLinkHtml = 'Like what you see? Visit the ' +\n",
              "            '<a target=\"_blank\" href=https://colab.research.google.com/notebooks/data_table.ipynb>data table notebook</a>'\n",
              "            + ' to learn more about interactive tables.';\n",
              "          element.innerHTML = '';\n",
              "          dataTable['output_type'] = 'display_data';\n",
              "          await google.colab.output.renderOutput(dataTable, element);\n",
              "          const docLink = document.createElement('div');\n",
              "          docLink.innerHTML = docLinkHtml;\n",
              "          element.appendChild(docLink);\n",
              "        }\n",
              "      </script>\n",
              "    </div>\n",
              "  </div>\n",
              "  "
            ]
          },
          "metadata": {},
          "execution_count": 5
        }
      ]
    },
    {
      "cell_type": "code",
      "source": [
        "cutlets.info()"
      ],
      "metadata": {
        "colab": {
          "base_uri": "https://localhost:8080/"
        },
        "id": "J3hTjB0JvEf3",
        "outputId": "de5c0c76-1feb-4b12-a397-219456373f0c"
      },
      "execution_count": 6,
      "outputs": [
        {
          "output_type": "stream",
          "name": "stdout",
          "text": [
            "<class 'pandas.core.frame.DataFrame'>\n",
            "RangeIndex: 35 entries, 0 to 34\n",
            "Data columns (total 2 columns):\n",
            " #   Column  Non-Null Count  Dtype  \n",
            "---  ------  --------------  -----  \n",
            " 0   Unit A  35 non-null     float64\n",
            " 1   Unit B  35 non-null     float64\n",
            "dtypes: float64(2)\n",
            "memory usage: 688.0 bytes\n"
          ]
        }
      ]
    },
    {
      "cell_type": "code",
      "source": [
        "cutlets.head()"
      ],
      "metadata": {
        "colab": {
          "base_uri": "https://localhost:8080/",
          "height": 206
        },
        "id": "d8Q9VHiNvGU9",
        "outputId": "d849190b-9782-42b7-8d70-a75b1adf1f41"
      },
      "execution_count": 7,
      "outputs": [
        {
          "output_type": "execute_result",
          "data": {
            "text/plain": [
              "   Unit A  Unit B\n",
              "0  6.8090  6.7703\n",
              "1  6.4376  7.5093\n",
              "2  6.9157  6.7300\n",
              "3  7.3012  6.7878\n",
              "4  7.4488  7.1522"
            ],
            "text/html": [
              "\n",
              "  <div id=\"df-43edda25-81f2-4d26-a845-1d6523a36719\">\n",
              "    <div class=\"colab-df-container\">\n",
              "      <div>\n",
              "<style scoped>\n",
              "    .dataframe tbody tr th:only-of-type {\n",
              "        vertical-align: middle;\n",
              "    }\n",
              "\n",
              "    .dataframe tbody tr th {\n",
              "        vertical-align: top;\n",
              "    }\n",
              "\n",
              "    .dataframe thead th {\n",
              "        text-align: right;\n",
              "    }\n",
              "</style>\n",
              "<table border=\"1\" class=\"dataframe\">\n",
              "  <thead>\n",
              "    <tr style=\"text-align: right;\">\n",
              "      <th></th>\n",
              "      <th>Unit A</th>\n",
              "      <th>Unit B</th>\n",
              "    </tr>\n",
              "  </thead>\n",
              "  <tbody>\n",
              "    <tr>\n",
              "      <th>0</th>\n",
              "      <td>6.8090</td>\n",
              "      <td>6.7703</td>\n",
              "    </tr>\n",
              "    <tr>\n",
              "      <th>1</th>\n",
              "      <td>6.4376</td>\n",
              "      <td>7.5093</td>\n",
              "    </tr>\n",
              "    <tr>\n",
              "      <th>2</th>\n",
              "      <td>6.9157</td>\n",
              "      <td>6.7300</td>\n",
              "    </tr>\n",
              "    <tr>\n",
              "      <th>3</th>\n",
              "      <td>7.3012</td>\n",
              "      <td>6.7878</td>\n",
              "    </tr>\n",
              "    <tr>\n",
              "      <th>4</th>\n",
              "      <td>7.4488</td>\n",
              "      <td>7.1522</td>\n",
              "    </tr>\n",
              "  </tbody>\n",
              "</table>\n",
              "</div>\n",
              "      <button class=\"colab-df-convert\" onclick=\"convertToInteractive('df-43edda25-81f2-4d26-a845-1d6523a36719')\"\n",
              "              title=\"Convert this dataframe to an interactive table.\"\n",
              "              style=\"display:none;\">\n",
              "        \n",
              "  <svg xmlns=\"http://www.w3.org/2000/svg\" height=\"24px\"viewBox=\"0 0 24 24\"\n",
              "       width=\"24px\">\n",
              "    <path d=\"M0 0h24v24H0V0z\" fill=\"none\"/>\n",
              "    <path d=\"M18.56 5.44l.94 2.06.94-2.06 2.06-.94-2.06-.94-.94-2.06-.94 2.06-2.06.94zm-11 1L8.5 8.5l.94-2.06 2.06-.94-2.06-.94L8.5 2.5l-.94 2.06-2.06.94zm10 10l.94 2.06.94-2.06 2.06-.94-2.06-.94-.94-2.06-.94 2.06-2.06.94z\"/><path d=\"M17.41 7.96l-1.37-1.37c-.4-.4-.92-.59-1.43-.59-.52 0-1.04.2-1.43.59L10.3 9.45l-7.72 7.72c-.78.78-.78 2.05 0 2.83L4 21.41c.39.39.9.59 1.41.59.51 0 1.02-.2 1.41-.59l7.78-7.78 2.81-2.81c.8-.78.8-2.07 0-2.86zM5.41 20L4 18.59l7.72-7.72 1.47 1.35L5.41 20z\"/>\n",
              "  </svg>\n",
              "      </button>\n",
              "      \n",
              "  <style>\n",
              "    .colab-df-container {\n",
              "      display:flex;\n",
              "      flex-wrap:wrap;\n",
              "      gap: 12px;\n",
              "    }\n",
              "\n",
              "    .colab-df-convert {\n",
              "      background-color: #E8F0FE;\n",
              "      border: none;\n",
              "      border-radius: 50%;\n",
              "      cursor: pointer;\n",
              "      display: none;\n",
              "      fill: #1967D2;\n",
              "      height: 32px;\n",
              "      padding: 0 0 0 0;\n",
              "      width: 32px;\n",
              "    }\n",
              "\n",
              "    .colab-df-convert:hover {\n",
              "      background-color: #E2EBFA;\n",
              "      box-shadow: 0px 1px 2px rgba(60, 64, 67, 0.3), 0px 1px 3px 1px rgba(60, 64, 67, 0.15);\n",
              "      fill: #174EA6;\n",
              "    }\n",
              "\n",
              "    [theme=dark] .colab-df-convert {\n",
              "      background-color: #3B4455;\n",
              "      fill: #D2E3FC;\n",
              "    }\n",
              "\n",
              "    [theme=dark] .colab-df-convert:hover {\n",
              "      background-color: #434B5C;\n",
              "      box-shadow: 0px 1px 3px 1px rgba(0, 0, 0, 0.15);\n",
              "      filter: drop-shadow(0px 1px 2px rgba(0, 0, 0, 0.3));\n",
              "      fill: #FFFFFF;\n",
              "    }\n",
              "  </style>\n",
              "\n",
              "      <script>\n",
              "        const buttonEl =\n",
              "          document.querySelector('#df-43edda25-81f2-4d26-a845-1d6523a36719 button.colab-df-convert');\n",
              "        buttonEl.style.display =\n",
              "          google.colab.kernel.accessAllowed ? 'block' : 'none';\n",
              "\n",
              "        async function convertToInteractive(key) {\n",
              "          const element = document.querySelector('#df-43edda25-81f2-4d26-a845-1d6523a36719');\n",
              "          const dataTable =\n",
              "            await google.colab.kernel.invokeFunction('convertToInteractive',\n",
              "                                                     [key], {});\n",
              "          if (!dataTable) return;\n",
              "\n",
              "          const docLinkHtml = 'Like what you see? Visit the ' +\n",
              "            '<a target=\"_blank\" href=https://colab.research.google.com/notebooks/data_table.ipynb>data table notebook</a>'\n",
              "            + ' to learn more about interactive tables.';\n",
              "          element.innerHTML = '';\n",
              "          dataTable['output_type'] = 'display_data';\n",
              "          await google.colab.output.renderOutput(dataTable, element);\n",
              "          const docLink = document.createElement('div');\n",
              "          docLink.innerHTML = docLinkHtml;\n",
              "          element.appendChild(docLink);\n",
              "        }\n",
              "      </script>\n",
              "    </div>\n",
              "  </div>\n",
              "  "
            ]
          },
          "metadata": {},
          "execution_count": 7
        }
      ]
    },
    {
      "cell_type": "code",
      "source": [
        "cutlets.sample()"
      ],
      "metadata": {
        "colab": {
          "base_uri": "https://localhost:8080/",
          "height": 81
        },
        "id": "TwvvaAdSvJcl",
        "outputId": "e26e7cff-c5ed-41e2-d423-7654a271fb47"
      },
      "execution_count": 8,
      "outputs": [
        {
          "output_type": "execute_result",
          "data": {
            "text/plain": [
              "    Unit A  Unit B\n",
              "18  7.2828   7.307"
            ],
            "text/html": [
              "\n",
              "  <div id=\"df-90a75bec-c317-475e-abde-03aa23288a0f\">\n",
              "    <div class=\"colab-df-container\">\n",
              "      <div>\n",
              "<style scoped>\n",
              "    .dataframe tbody tr th:only-of-type {\n",
              "        vertical-align: middle;\n",
              "    }\n",
              "\n",
              "    .dataframe tbody tr th {\n",
              "        vertical-align: top;\n",
              "    }\n",
              "\n",
              "    .dataframe thead th {\n",
              "        text-align: right;\n",
              "    }\n",
              "</style>\n",
              "<table border=\"1\" class=\"dataframe\">\n",
              "  <thead>\n",
              "    <tr style=\"text-align: right;\">\n",
              "      <th></th>\n",
              "      <th>Unit A</th>\n",
              "      <th>Unit B</th>\n",
              "    </tr>\n",
              "  </thead>\n",
              "  <tbody>\n",
              "    <tr>\n",
              "      <th>18</th>\n",
              "      <td>7.2828</td>\n",
              "      <td>7.307</td>\n",
              "    </tr>\n",
              "  </tbody>\n",
              "</table>\n",
              "</div>\n",
              "      <button class=\"colab-df-convert\" onclick=\"convertToInteractive('df-90a75bec-c317-475e-abde-03aa23288a0f')\"\n",
              "              title=\"Convert this dataframe to an interactive table.\"\n",
              "              style=\"display:none;\">\n",
              "        \n",
              "  <svg xmlns=\"http://www.w3.org/2000/svg\" height=\"24px\"viewBox=\"0 0 24 24\"\n",
              "       width=\"24px\">\n",
              "    <path d=\"M0 0h24v24H0V0z\" fill=\"none\"/>\n",
              "    <path d=\"M18.56 5.44l.94 2.06.94-2.06 2.06-.94-2.06-.94-.94-2.06-.94 2.06-2.06.94zm-11 1L8.5 8.5l.94-2.06 2.06-.94-2.06-.94L8.5 2.5l-.94 2.06-2.06.94zm10 10l.94 2.06.94-2.06 2.06-.94-2.06-.94-.94-2.06-.94 2.06-2.06.94z\"/><path d=\"M17.41 7.96l-1.37-1.37c-.4-.4-.92-.59-1.43-.59-.52 0-1.04.2-1.43.59L10.3 9.45l-7.72 7.72c-.78.78-.78 2.05 0 2.83L4 21.41c.39.39.9.59 1.41.59.51 0 1.02-.2 1.41-.59l7.78-7.78 2.81-2.81c.8-.78.8-2.07 0-2.86zM5.41 20L4 18.59l7.72-7.72 1.47 1.35L5.41 20z\"/>\n",
              "  </svg>\n",
              "      </button>\n",
              "      \n",
              "  <style>\n",
              "    .colab-df-container {\n",
              "      display:flex;\n",
              "      flex-wrap:wrap;\n",
              "      gap: 12px;\n",
              "    }\n",
              "\n",
              "    .colab-df-convert {\n",
              "      background-color: #E8F0FE;\n",
              "      border: none;\n",
              "      border-radius: 50%;\n",
              "      cursor: pointer;\n",
              "      display: none;\n",
              "      fill: #1967D2;\n",
              "      height: 32px;\n",
              "      padding: 0 0 0 0;\n",
              "      width: 32px;\n",
              "    }\n",
              "\n",
              "    .colab-df-convert:hover {\n",
              "      background-color: #E2EBFA;\n",
              "      box-shadow: 0px 1px 2px rgba(60, 64, 67, 0.3), 0px 1px 3px 1px rgba(60, 64, 67, 0.15);\n",
              "      fill: #174EA6;\n",
              "    }\n",
              "\n",
              "    [theme=dark] .colab-df-convert {\n",
              "      background-color: #3B4455;\n",
              "      fill: #D2E3FC;\n",
              "    }\n",
              "\n",
              "    [theme=dark] .colab-df-convert:hover {\n",
              "      background-color: #434B5C;\n",
              "      box-shadow: 0px 1px 3px 1px rgba(0, 0, 0, 0.15);\n",
              "      filter: drop-shadow(0px 1px 2px rgba(0, 0, 0, 0.3));\n",
              "      fill: #FFFFFF;\n",
              "    }\n",
              "  </style>\n",
              "\n",
              "      <script>\n",
              "        const buttonEl =\n",
              "          document.querySelector('#df-90a75bec-c317-475e-abde-03aa23288a0f button.colab-df-convert');\n",
              "        buttonEl.style.display =\n",
              "          google.colab.kernel.accessAllowed ? 'block' : 'none';\n",
              "\n",
              "        async function convertToInteractive(key) {\n",
              "          const element = document.querySelector('#df-90a75bec-c317-475e-abde-03aa23288a0f');\n",
              "          const dataTable =\n",
              "            await google.colab.kernel.invokeFunction('convertToInteractive',\n",
              "                                                     [key], {});\n",
              "          if (!dataTable) return;\n",
              "\n",
              "          const docLinkHtml = 'Like what you see? Visit the ' +\n",
              "            '<a target=\"_blank\" href=https://colab.research.google.com/notebooks/data_table.ipynb>data table notebook</a>'\n",
              "            + ' to learn more about interactive tables.';\n",
              "          element.innerHTML = '';\n",
              "          dataTable['output_type'] = 'display_data';\n",
              "          await google.colab.output.renderOutput(dataTable, element);\n",
              "          const docLink = document.createElement('div');\n",
              "          docLink.innerHTML = docLinkHtml;\n",
              "          element.appendChild(docLink);\n",
              "        }\n",
              "      </script>\n",
              "    </div>\n",
              "  </div>\n",
              "  "
            ]
          },
          "metadata": {},
          "execution_count": 8
        }
      ]
    },
    {
      "cell_type": "code",
      "source": [
        "cutlets[cutlets.duplicated()] # No Duplicate Values"
      ],
      "metadata": {
        "colab": {
          "base_uri": "https://localhost:8080/",
          "height": 49
        },
        "id": "d0DeR4kRvLuI",
        "outputId": "a3640137-3e72-4409-cf60-2ae8924f742c"
      },
      "execution_count": 10,
      "outputs": [
        {
          "output_type": "execute_result",
          "data": {
            "text/plain": [
              "Empty DataFrame\n",
              "Columns: [Unit A, Unit B]\n",
              "Index: []"
            ],
            "text/html": [
              "\n",
              "  <div id=\"df-6cb59f0f-1ffe-45f5-a637-3516705d7fe8\">\n",
              "    <div class=\"colab-df-container\">\n",
              "      <div>\n",
              "<style scoped>\n",
              "    .dataframe tbody tr th:only-of-type {\n",
              "        vertical-align: middle;\n",
              "    }\n",
              "\n",
              "    .dataframe tbody tr th {\n",
              "        vertical-align: top;\n",
              "    }\n",
              "\n",
              "    .dataframe thead th {\n",
              "        text-align: right;\n",
              "    }\n",
              "</style>\n",
              "<table border=\"1\" class=\"dataframe\">\n",
              "  <thead>\n",
              "    <tr style=\"text-align: right;\">\n",
              "      <th></th>\n",
              "      <th>Unit A</th>\n",
              "      <th>Unit B</th>\n",
              "    </tr>\n",
              "  </thead>\n",
              "  <tbody>\n",
              "  </tbody>\n",
              "</table>\n",
              "</div>\n",
              "      <button class=\"colab-df-convert\" onclick=\"convertToInteractive('df-6cb59f0f-1ffe-45f5-a637-3516705d7fe8')\"\n",
              "              title=\"Convert this dataframe to an interactive table.\"\n",
              "              style=\"display:none;\">\n",
              "        \n",
              "  <svg xmlns=\"http://www.w3.org/2000/svg\" height=\"24px\"viewBox=\"0 0 24 24\"\n",
              "       width=\"24px\">\n",
              "    <path d=\"M0 0h24v24H0V0z\" fill=\"none\"/>\n",
              "    <path d=\"M18.56 5.44l.94 2.06.94-2.06 2.06-.94-2.06-.94-.94-2.06-.94 2.06-2.06.94zm-11 1L8.5 8.5l.94-2.06 2.06-.94-2.06-.94L8.5 2.5l-.94 2.06-2.06.94zm10 10l.94 2.06.94-2.06 2.06-.94-2.06-.94-.94-2.06-.94 2.06-2.06.94z\"/><path d=\"M17.41 7.96l-1.37-1.37c-.4-.4-.92-.59-1.43-.59-.52 0-1.04.2-1.43.59L10.3 9.45l-7.72 7.72c-.78.78-.78 2.05 0 2.83L4 21.41c.39.39.9.59 1.41.59.51 0 1.02-.2 1.41-.59l7.78-7.78 2.81-2.81c.8-.78.8-2.07 0-2.86zM5.41 20L4 18.59l7.72-7.72 1.47 1.35L5.41 20z\"/>\n",
              "  </svg>\n",
              "      </button>\n",
              "      \n",
              "  <style>\n",
              "    .colab-df-container {\n",
              "      display:flex;\n",
              "      flex-wrap:wrap;\n",
              "      gap: 12px;\n",
              "    }\n",
              "\n",
              "    .colab-df-convert {\n",
              "      background-color: #E8F0FE;\n",
              "      border: none;\n",
              "      border-radius: 50%;\n",
              "      cursor: pointer;\n",
              "      display: none;\n",
              "      fill: #1967D2;\n",
              "      height: 32px;\n",
              "      padding: 0 0 0 0;\n",
              "      width: 32px;\n",
              "    }\n",
              "\n",
              "    .colab-df-convert:hover {\n",
              "      background-color: #E2EBFA;\n",
              "      box-shadow: 0px 1px 2px rgba(60, 64, 67, 0.3), 0px 1px 3px 1px rgba(60, 64, 67, 0.15);\n",
              "      fill: #174EA6;\n",
              "    }\n",
              "\n",
              "    [theme=dark] .colab-df-convert {\n",
              "      background-color: #3B4455;\n",
              "      fill: #D2E3FC;\n",
              "    }\n",
              "\n",
              "    [theme=dark] .colab-df-convert:hover {\n",
              "      background-color: #434B5C;\n",
              "      box-shadow: 0px 1px 3px 1px rgba(0, 0, 0, 0.15);\n",
              "      filter: drop-shadow(0px 1px 2px rgba(0, 0, 0, 0.3));\n",
              "      fill: #FFFFFF;\n",
              "    }\n",
              "  </style>\n",
              "\n",
              "      <script>\n",
              "        const buttonEl =\n",
              "          document.querySelector('#df-6cb59f0f-1ffe-45f5-a637-3516705d7fe8 button.colab-df-convert');\n",
              "        buttonEl.style.display =\n",
              "          google.colab.kernel.accessAllowed ? 'block' : 'none';\n",
              "\n",
              "        async function convertToInteractive(key) {\n",
              "          const element = document.querySelector('#df-6cb59f0f-1ffe-45f5-a637-3516705d7fe8');\n",
              "          const dataTable =\n",
              "            await google.colab.kernel.invokeFunction('convertToInteractive',\n",
              "                                                     [key], {});\n",
              "          if (!dataTable) return;\n",
              "\n",
              "          const docLinkHtml = 'Like what you see? Visit the ' +\n",
              "            '<a target=\"_blank\" href=https://colab.research.google.com/notebooks/data_table.ipynb>data table notebook</a>'\n",
              "            + ' to learn more about interactive tables.';\n",
              "          element.innerHTML = '';\n",
              "          dataTable['output_type'] = 'display_data';\n",
              "          await google.colab.output.renderOutput(dataTable, element);\n",
              "          const docLink = document.createElement('div');\n",
              "          docLink.innerHTML = docLinkHtml;\n",
              "          element.appendChild(docLink);\n",
              "        }\n",
              "      </script>\n",
              "    </div>\n",
              "  </div>\n",
              "  "
            ]
          },
          "metadata": {},
          "execution_count": 10
        }
      ]
    },
    {
      "cell_type": "code",
      "source": [
        "plt.subplots(figsize=(9,6))\n",
        "\n",
        "plt.subplot(121)\n",
        "plt.boxplot(cutlets['Unit A'])\n",
        "plt.title('Unit A')\n",
        "\n",
        "plt.subplot(122)\n",
        "plt.boxplot(cutlets['Unit B'])\n",
        "plt.title('Unit B')\n",
        "\n",
        "plt.show()"
      ],
      "metadata": {
        "colab": {
          "base_uri": "https://localhost:8080/",
          "height": 390
        },
        "id": "H1_QiYC9vQOA",
        "outputId": "f56787b8-29cc-4a35-ddbb-8dc65d57c8ed"
      },
      "execution_count": 13,
      "outputs": [
        {
          "output_type": "display_data",
          "data": {
            "text/plain": [
              "<Figure size 648x432 with 2 Axes>"
            ],
            "image/png": "[encoded data removed]"
          },
          "metadata": {
            "needs_background": "light"
          }
        }
      ]
    },
    {
      "cell_type": "code",
      "source": [
        "# Histogram\n",
        "\n",
        "plt.subplots(figsize=(9,6))\n",
        "\n",
        "plt.subplot(121)\n",
        "plt.hist(cutlets['Unit A'],bins=15)\n",
        "plt.title('Unit A')\n",
        "\n",
        "plt.subplot(122)\n",
        "plt.hist(cutlets['Unit B'],bins=15)\n",
        "plt.title('Unit B')\n",
        "\n",
        "plt.show()"
      ],
      "metadata": {
        "colab": {
          "base_uri": "https://localhost:8080/",
          "height": 390
        },
        "id": "NM75_oUIvrEI",
        "outputId": "66ec3588-2b4f-4c35-ae91-745700b8b03e"
      },
      "execution_count": 14,
      "outputs": [
        {
          "output_type": "display_data",
          "data": {
            "text/plain": [
              "<Figure size 648x432 with 2 Axes>"
            ],
            "image/png": "[encoded data removed]"
          },
          "metadata": {
            "needs_background": "light"
          }
        }
      ]
    },
    {
      "cell_type": "code",
      "source": [
        "plt.figure(figsize=(10,8))\n",
        "labels=['Unit A','Unit B']\n",
        "sns.distplot(cutlets['Unit A'],kde=True)\n",
        "sns.distplot(cutlets['Unit B'],kde=True)\n",
        "plt.legend(labels);"
      ],
      "metadata": {
        "colab": {
          "base_uri": "https://localhost:8080/",
          "height": 497
        },
        "id": "Rbd9_dvqwWdv",
        "outputId": "e11a6065-0a97-4840-d1b6-91c1e5e985e7"
      },
      "execution_count": 15,
      "outputs": [
        {
          "output_type": "display_data",
          "data": {
            "text/plain": [
              "<Figure size 720x576 with 1 Axes>"
            ],
            "image/png": "[encoded data removed]"
          },
          "metadata": {
            "needs_background": "light"
          }
        }
      ]
    },
    {
      "cell_type": "code",
      "source": [
        "# t-test\n",
        "\n",
        "statistic,p_value=stats.ttest_ind(cutlets['Unit A'],cutlets['Unit B'])\n",
        "print(\"p_value\",p_value)"
      ],
      "metadata": {
        "colab": {
          "base_uri": "https://localhost:8080/"
        },
        "id": "FKhUATkZwxNO",
        "outputId": "6b64fbb5-e328-4acf-c689-dd5af88ce9ed"
      },
      "execution_count": 16,
      "outputs": [
        {
          "output_type": "stream",
          "name": "stdout",
          "text": [
            "p_value 0.4722394724599501\n"
          ]
        }
      ]
    },
    {
      "cell_type": "markdown",
      "source": [
        "Comparep p-value with $\\alpha$. (Significance Level)\n",
        "\n",
        "If p-value $\\neq \\alpha$ we fail to reject Null Hypothesis because of Lack Of Evidence.\n",
        "\n",
        "If p-value $=\\alpha$ we reject Null Hypothesis."
      ],
      "metadata": {
        "id": "_dyH42jnxLIA"
      }
    },
    {
      "cell_type": "markdown",
      "source": [
        "# **Interpreting p-value**"
      ],
      "metadata": {
        "id": "jwvg5K_hxyIh"
      }
    },
    {
      "cell_type": "code",
      "source": [
        "alpha=0.025\n",
        "\n",
        "print(\"Significance=%0.3f, p=%0.3f\" %(alpha,p_value) )\n",
        "\n",
        "if p_value<=alpha:\n",
        "  print(\"We reject Null Hypothesis, there is a significance difference between the two Units A and B\")\n",
        "else:\n",
        "  print(\"We fail to reject to Null Hypothesis\")"
      ],
      "metadata": {
        "colab": {
          "base_uri": "https://localhost:8080/"
        },
        "id": "RZycaH5TyAOj",
        "outputId": "54a518bc-5419-44a7-9e4d-dc7b566bd80a"
      },
      "execution_count": 18,
      "outputs": [
        {
          "output_type": "stream",
          "name": "stdout",
          "text": [
            "Significance=0.025, p=0.472\n",
            "We fail to reject to Null Hypothesis\n"
          ]
        }
      ]
    },
    {
      "cell_type": "markdown",
      "source": [
        "> **We fail to reject Null Hypothesis**\n",
        "\n",
        "> **There is no significant difference between two samples**"
      ],
      "metadata": {
        "id": "hsjF1b7QyuN6"
      }
    },
    {
      "cell_type": "markdown",
      "source": [
        "# ***Question 2***\n",
        "\n",
        "> # *A hospital wants to determine whether there is any difference in the average Turn Around Time (TAT) of reports of the laboratories on their preferred list. They collected a random sample and recorded TAT for reports of 4 Laboratories. TAT is defined as sample collected to report dispatch.*\n",
        "\n",
        "> # *Analyze the data and determine whether there is any difference in average TAT among the different laboratories at 5% significance level.*"
      ],
      "metadata": {
        "id": "2NoPJxppzNNG"
      }
    },
    {
      "cell_type": "markdown",
      "source": [
        "> **Answer:** Here, we are going to conduct **Anova test** because more than two samples are there. \n",
        "\n",
        "We need to check whether the mean of any of these samples are different or same?"
      ],
      "metadata": {
        "id": "2Vk_9lI7zNHT"
      }
    },
    {
      "cell_type": "markdown",
      "source": [
        "# ***Step 1***\n",
        "\n",
        "1. Make two Hypothesis one contradicting to other.\n",
        "\n",
        "2. Null Hypothesis is what we want to prove.\n",
        "\n",
        "3. Null Hypothesis: $M1=M2=M3=M4$\n",
        "\n",
        "4. Alternative Hypothesis: Atleast One of them is different.\n",
        "\n",
        "# ***Step 2***\n",
        "\n",
        "1. Decide a cut-off value\n",
        "\n",
        "2. Significance 5%\n",
        "\n",
        "3. $\\alpha=0.05$\n",
        "\n",
        "# ***Step 3***\n",
        "\n",
        "1. Collect Evidence \n",
        "\n",
        "2. Importing files.\n",
        "\n",
        "# ***Step 4***\n",
        "\n",
        "* Comparing evidences with Hypothesis using t-statistic."
      ],
      "metadata": {
        "id": "w1VdhJJ70K_5"
      }
    },
    {
      "cell_type": "code",
      "source": [
        "from google.colab import files\n",
        "uploaded=files.upload()"
      ],
      "metadata": {
        "colab": {
          "base_uri": "https://localhost:8080/",
          "height": 74
        },
        "id": "I1CJx8-M0gmj",
        "outputId": "22039dee-cba9-4bb8-ecc9-c39ca583afb7"
      },
      "execution_count": 19,
      "outputs": [
        {
          "output_type": "display_data",
          "data": {
            "text/plain": [
              "<IPython.core.display.HTML object>"
            ],
            "text/html": [
              "\n",
              "     <input type=\"file\" id=\"files-6dfa1f66-010f-477a-a40d-88441027a5c4\" name=\"files[]\" multiple disabled\n",
              "        style=\"border:none\" />\n",
              "     <output id=\"result-6dfa1f66-010f-477a-a40d-88441027a5c4\">\n",
              "      Upload widget is only available when the cell has been executed in the\n",
              "      current browser session. Please rerun this cell to enable.\n",
              "      </output>\n",
              "      <script>// Copyright 2017 Google LLC\n",
              "//\n",
              "// Licensed under the Apache License, Version 2.0 (the \"License\");\n",
              "// you may not use this file except in compliance with the License.\n",
              "// You may obtain a copy of the License at\n",
              "//\n",
              "//      http://www.apache.org/licenses/LICENSE-2.0\n",
              "//\n",
              "// Unless required by applicable law or agreed to in writing, software\n",
              "// distributed under the License is distributed on an \"AS IS\" BASIS,\n",
              "// WITHOUT WARRANTIES OR CONDITIONS OF ANY KIND, either express or implied.\n",
              "// See the License for the specific language governing permissions and\n",
              "// limitations under the License.\n",
              "\n",
              "/**\n",
              " * @fileoverview Helpers for google.colab Python module.\n",
              " */\n",
              "(function(scope) {\n",
              "function span(text, styleAttributes = {}) {\n",
              "  const element = document.createElement('span');\n",
              "  element.textContent = text;\n",
              "  for (const key of Object.keys(styleAttributes)) {\n",
              "    element.style[key] = styleAttributes[key];\n",
              "  }\n",
              "  return element;\n",
              "}\n",
              "\n",
              "// Max number of bytes which will be uploaded at a time.\n",
              "const MAX_PAYLOAD_SIZE = 100 * 1024;\n",
              "\n",
              "function _uploadFiles(inputId, outputId) {\n",
              "  const steps = uploadFilesStep(inputId, outputId);\n",
              "  const outputElement = document.getElementById(outputId);\n",
              "  // Cache steps on the outputElement to make it available for the next call\n",
              "  // to uploadFilesContinue from Python.\n",
              "  outputElement.steps = steps;\n",
              "\n",
              "  return _uploadFilesContinue(outputId);\n",
              "}\n",
              "\n",
              "// This is roughly an async generator (not supported in the browser yet),\n",
              "// where there are multiple asynchronous steps and the Python side is going\n",
              "// to poll for completion of each step.\n",
              "// This uses a Promise to block the python side on completion of each step,\n",
              "// then passes the result of the previous step as the input to the next step.\n",
              "function _uploadFilesContinue(outputId) {\n",
              "  const outputElement = document.getElementById(outputId);\n",
              "  const steps = outputElement.steps;\n",
              "\n",
              "  const next = steps.next(outputElement.lastPromiseValue);\n",
              "  return Promise.resolve(next.value.promise).then((value) => {\n",
              "    // Cache the last promise value to make it available to the next\n",
              "    // step of the generator.\n",
              "    outputElement.lastPromiseValue = value;\n",
              "    return next.value.response;\n",
              "  });\n",
              "}\n",
              "\n",
              "/**\n",
              " * Generator function which is called between each async step of the upload\n",
              " * process.\n",
              " * @param {string} inputId Element ID of the input file picker element.\n",
              " * @param {string} outputId Element ID of the output display.\n",
              " * @return {!Iterable<!Object>} Iterable of next steps.\n",
              " */\n",
              "function* uploadFilesStep(inputId, outputId) {\n",
              "  const inputElement = document.getElementById(inputId);\n",
              "  inputElement.disabled = false;\n",
              "\n",
              "  const outputElement = document.getElementById(outputId);\n",
              "  outputElement.innerHTML = '';\n",
              "\n",
              "  const pickedPromise = new Promise((resolve) => {\n",
              "    inputElement.addEventListener('change', (e) => {\n",
              "      resolve(e.target.files);\n",
              "    });\n",
              "  });\n",
              "\n",
              "  const cancel = document.createElement('button');\n",
              "  inputElement.parentElement.appendChild(cancel);\n",
              "  cancel.textContent = 'Cancel upload';\n",
              "  const cancelPromise = new Promise((resolve) => {\n",
              "    cancel.onclick = () => {\n",
              "      resolve(null);\n",
              "    };\n",
              "  });\n",
              "\n",
              "  // Wait for the user to pick the files.\n",
              "  const files = yield {\n",
              "    promise: Promise.race([pickedPromise, cancelPromise]),\n",
              "    response: {\n",
              "      action: 'starting',\n",
              "    }\n",
              "  };\n",
              "\n",
              "  cancel.remove();\n",
              "\n",
              "  // Disable the input element since further picks are not allowed.\n",
              "  inputElement.disabled = true;\n",
              "\n",
              "  if (!files) {\n",
              "    return {\n",
              "      response: {\n",
              "        action: 'complete',\n",
              "      }\n",
              "    };\n",
              "  }\n",
              "\n",
              "  for (const file of files) {\n",
              "    const li = document.createElement('li');\n",
              "    li.append(span(file.name, {fontWeight: 'bold'}));\n",
              "    li.append(span(\n",
              "        `(${file.type || 'n/a'}) - ${file.size} bytes, ` +\n",
              "        `last modified: ${\n",
              "            file.lastModifiedDate ? file.lastModifiedDate.toLocaleDateString() :\n",
              "                                    'n/a'} - `));\n",
              "    const percent = span('0% done');\n",
              "    li.appendChild(percent);\n",
              "\n",
              "    outputElement.appendChild(li);\n",
              "\n",
              "    const fileDataPromise = new Promise((resolve) => {\n",
              "      const reader = new FileReader();\n",
              "      reader.onload = (e) => {\n",
              "        resolve(e.target.result);\n",
              "      };\n",
              "      reader.readAsArrayBuffer(file);\n",
              "    });\n",
              "    // Wait for the data to be ready.\n",
              "    let fileData = yield {\n",
              "      promise: fileDataPromise,\n",
              "      response: {\n",
              "        action: 'continue',\n",
              "      }\n",
              "    };\n",
              "\n",
              "    // Use a chunked sending to avoid message size limits. See b/62115660.\n",
              "    let position = 0;\n",
              "    do {\n",
              "      const length = Math.min(fileData.byteLength - position, MAX_PAYLOAD_SIZE);\n",
              "      const chunk = new Uint8Array(fileData, position, length);\n",
              "      position += length;\n",
              "\n",
              "      const base64 = btoa(String.fromCharCode.apply(null, chunk));\n",
              "      yield {\n",
              "        response: {\n",
              "          action: 'append',\n",
              "          file: file.name,\n",
              "          data: base64,\n",
              "        },\n",
              "      };\n",
              "\n",
              "      let percentDone = fileData.byteLength === 0 ?\n",
              "          100 :\n",
              "          Math.round((position / fileData.byteLength) * 100);\n",
              "      percent.textContent = `${percentDone}% done`;\n",
              "\n",
              "    } while (position < fileData.byteLength);\n",
              "  }\n",
              "\n",
              "  // All done.\n",
              "  yield {\n",
              "    response: {\n",
              "      action: 'complete',\n",
              "    }\n",
              "  };\n",
              "}\n",
              "\n",
              "scope.google = scope.google || {};\n",
              "scope.google.colab = scope.google.colab || {};\n",
              "scope.google.colab._files = {\n",
              "  _uploadFiles,\n",
              "  _uploadFilesContinue,\n",
              "};\n",
              "})(self);\n",
              "</script> "
            ]
          },
          "metadata": {}
        },
        {
          "output_type": "stream",
          "name": "stdout",
          "text": [
            "Saving LabTAT.csv to LabTAT.csv\n"
          ]
        }
      ]
    },
    {
      "cell_type": "code",
      "source": [
        "labtat=pd.read_csv(\"LabTAT.csv\")"
      ],
      "metadata": {
        "id": "GNZodKD70gjA"
      },
      "execution_count": 20,
      "outputs": []
    },
    {
      "cell_type": "code",
      "source": [
        "labtat.head()"
      ],
      "metadata": {
        "colab": {
          "base_uri": "https://localhost:8080/",
          "height": 206
        },
        "id": "PTPy28oC0EfV",
        "outputId": "84c6f02b-cd46-4038-a2a7-6edf8b117165"
      },
      "execution_count": 22,
      "outputs": [
        {
          "output_type": "execute_result",
          "data": {
            "text/plain": [
              "   Laboratory 1  Laboratory 2  Laboratory 3  Laboratory 4\n",
              "0        185.35        165.53        176.70        166.13\n",
              "1        170.49        185.91        198.45        160.79\n",
              "2        192.77        194.92        201.23        185.18\n",
              "3        177.33        183.00        199.61        176.42\n",
              "4        193.41        169.57        204.63        152.60"
            ],
            "text/html": [
              "\n",
              "  <div id=\"df-2c5b6f47-5cb8-4f40-a240-c51f8332de1d\">\n",
              "    <div class=\"colab-df-container\">\n",
              "      <div>\n",
              "<style scoped>\n",
              "    .dataframe tbody tr th:only-of-type {\n",
              "        vertical-align: middle;\n",
              "    }\n",
              "\n",
              "    .dataframe tbody tr th {\n",
              "        vertical-align: top;\n",
              "    }\n",
              "\n",
              "    .dataframe thead th {\n",
              "        text-align: right;\n",
              "    }\n",
              "</style>\n",
              "<table border=\"1\" class=\"dataframe\">\n",
              "  <thead>\n",
              "    <tr style=\"text-align: right;\">\n",
              "      <th></th>\n",
              "      <th>Laboratory 1</th>\n",
              "      <th>Laboratory 2</th>\n",
              "      <th>Laboratory 3</th>\n",
              "      <th>Laboratory 4</th>\n",
              "    </tr>\n",
              "  </thead>\n",
              "  <tbody>\n",
              "    <tr>\n",
              "      <th>0</th>\n",
              "      <td>185.35</td>\n",
              "      <td>165.53</td>\n",
              "      <td>176.70</td>\n",
              "      <td>166.13</td>\n",
              "    </tr>\n",
              "    <tr>\n",
              "      <th>1</th>\n",
              "      <td>170.49</td>\n",
              "      <td>185.91</td>\n",
              "      <td>198.45</td>\n",
              "      <td>160.79</td>\n",
              "    </tr>\n",
              "    <tr>\n",
              "      <th>2</th>\n",
              "      <td>192.77</td>\n",
              "      <td>194.92</td>\n",
              "      <td>201.23</td>\n",
              "      <td>185.18</td>\n",
              "    </tr>\n",
              "    <tr>\n",
              "      <th>3</th>\n",
              "      <td>177.33</td>\n",
              "      <td>183.00</td>\n",
              "      <td>199.61</td>\n",
              "      <td>176.42</td>\n",
              "    </tr>\n",
              "    <tr>\n",
              "      <th>4</th>\n",
              "      <td>193.41</td>\n",
              "      <td>169.57</td>\n",
              "      <td>204.63</td>\n",
              "      <td>152.60</td>\n",
              "    </tr>\n",
              "  </tbody>\n",
              "</table>\n",
              "</div>\n",
              "      <button class=\"colab-df-convert\" onclick=\"convertToInteractive('df-2c5b6f47-5cb8-4f40-a240-c51f8332de1d')\"\n",
              "              title=\"Convert this dataframe to an interactive table.\"\n",
              "              style=\"display:none;\">\n",
              "        \n",
              "  <svg xmlns=\"http://www.w3.org/2000/svg\" height=\"24px\"viewBox=\"0 0 24 24\"\n",
              "       width=\"24px\">\n",
              "    <path d=\"M0 0h24v24H0V0z\" fill=\"none\"/>\n",
              "    <path d=\"M18.56 5.44l.94 2.06.94-2.06 2.06-.94-2.06-.94-.94-2.06-.94 2.06-2.06.94zm-11 1L8.5 8.5l.94-2.06 2.06-.94-2.06-.94L8.5 2.5l-.94 2.06-2.06.94zm10 10l.94 2.06.94-2.06 2.06-.94-2.06-.94-.94-2.06-.94 2.06-2.06.94z\"/><path d=\"M17.41 7.96l-1.37-1.37c-.4-.4-.92-.59-1.43-.59-.52 0-1.04.2-1.43.59L10.3 9.45l-7.72 7.72c-.78.78-.78 2.05 0 2.83L4 21.41c.39.39.9.59 1.41.59.51 0 1.02-.2 1.41-.59l7.78-7.78 2.81-2.81c.8-.78.8-2.07 0-2.86zM5.41 20L4 18.59l7.72-7.72 1.47 1.35L5.41 20z\"/>\n",
              "  </svg>\n",
              "      </button>\n",
              "      \n",
              "  <style>\n",
              "    .colab-df-container {\n",
              "      display:flex;\n",
              "      flex-wrap:wrap;\n",
              "      gap: 12px;\n",
              "    }\n",
              "\n",
              "    .colab-df-convert {\n",
              "      background-color: #E8F0FE;\n",
              "      border: none;\n",
              "      border-radius: 50%;\n",
              "      cursor: pointer;\n",
              "      display: none;\n",
              "      fill: #1967D2;\n",
              "      height: 32px;\n",
              "      padding: 0 0 0 0;\n",
              "      width: 32px;\n",
              "    }\n",
              "\n",
              "    .colab-df-convert:hover {\n",
              "      background-color: #E2EBFA;\n",
              "      box-shadow: 0px 1px 2px rgba(60, 64, 67, 0.3), 0px 1px 3px 1px rgba(60, 64, 67, 0.15);\n",
              "      fill: #174EA6;\n",
              "    }\n",
              "\n",
              "    [theme=dark] .colab-df-convert {\n",
              "      background-color: #3B4455;\n",
              "      fill: #D2E3FC;\n",
              "    }\n",
              "\n",
              "    [theme=dark] .colab-df-convert:hover {\n",
              "      background-color: #434B5C;\n",
              "      box-shadow: 0px 1px 3px 1px rgba(0, 0, 0, 0.15);\n",
              "      filter: drop-shadow(0px 1px 2px rgba(0, 0, 0, 0.3));\n",
              "      fill: #FFFFFF;\n",
              "    }\n",
              "  </style>\n",
              "\n",
              "      <script>\n",
              "        const buttonEl =\n",
              "          document.querySelector('#df-2c5b6f47-5cb8-4f40-a240-c51f8332de1d button.colab-df-convert');\n",
              "        buttonEl.style.display =\n",
              "          google.colab.kernel.accessAllowed ? 'block' : 'none';\n",
              "\n",
              "        async function convertToInteractive(key) {\n",
              "          const element = document.querySelector('#df-2c5b6f47-5cb8-4f40-a240-c51f8332de1d');\n",
              "          const dataTable =\n",
              "            await google.colab.kernel.invokeFunction('convertToInteractive',\n",
              "                                                     [key], {});\n",
              "          if (!dataTable) return;\n",
              "\n",
              "          const docLinkHtml = 'Like what you see? Visit the ' +\n",
              "            '<a target=\"_blank\" href=https://colab.research.google.com/notebooks/data_table.ipynb>data table notebook</a>'\n",
              "            + ' to learn more about interactive tables.';\n",
              "          element.innerHTML = '';\n",
              "          dataTable['output_type'] = 'display_data';\n",
              "          await google.colab.output.renderOutput(dataTable, element);\n",
              "          const docLink = document.createElement('div');\n",
              "          docLink.innerHTML = docLinkHtml;\n",
              "          element.appendChild(docLink);\n",
              "        }\n",
              "      </script>\n",
              "    </div>\n",
              "  </div>\n",
              "  "
            ]
          },
          "metadata": {},
          "execution_count": 22
        }
      ]
    },
    {
      "cell_type": "code",
      "source": [
        "labtat.describe()"
      ],
      "metadata": {
        "colab": {
          "base_uri": "https://localhost:8080/",
          "height": 300
        },
        "id": "TPiMMVQ71l44",
        "outputId": "442cfa3e-c37b-4379-af27-4f1c273ee7f7"
      },
      "execution_count": 23,
      "outputs": [
        {
          "output_type": "execute_result",
          "data": {
            "text/plain": [
              "       Laboratory 1  Laboratory 2  Laboratory 3  Laboratory 4\n",
              "count    120.000000    120.000000    120.000000     120.00000\n",
              "mean     178.361583    178.902917    199.913250     163.68275\n",
              "std       13.173594     14.957114     16.539033      15.08508\n",
              "min      138.300000    140.550000    159.690000     124.06000\n",
              "25%      170.335000    168.025000    188.232500     154.05000\n",
              "50%      178.530000    178.870000    199.805000     164.42500\n",
              "75%      186.535000    189.112500    211.332500     172.88250\n",
              "max      216.390000    217.860000    238.700000     205.18000"
            ],
            "text/html": [
              "\n",
              "  <div id=\"df-ce7aa781-e018-4cc4-82b6-34388071a640\">\n",
              "    <div class=\"colab-df-container\">\n",
              "      <div>\n",
              "<style scoped>\n",
              "    .dataframe tbody tr th:only-of-type {\n",
              "        vertical-align: middle;\n",
              "    }\n",
              "\n",
              "    .dataframe tbody tr th {\n",
              "        vertical-align: top;\n",
              "    }\n",
              "\n",
              "    .dataframe thead th {\n",
              "        text-align: right;\n",
              "    }\n",
              "</style>\n",
              "<table border=\"1\" class=\"dataframe\">\n",
              "  <thead>\n",
              "    <tr style=\"text-align: right;\">\n",
              "      <th></th>\n",
              "      <th>Laboratory 1</th>\n",
              "      <th>Laboratory 2</th>\n",
              "      <th>Laboratory 3</th>\n",
              "      <th>Laboratory 4</th>\n",
              "    </tr>\n",
              "  </thead>\n",
              "  <tbody>\n",
              "    <tr>\n",
              "      <th>count</th>\n",
              "      <td>120.000000</td>\n",
              "      <td>120.000000</td>\n",
              "      <td>120.000000</td>\n",
              "      <td>120.00000</td>\n",
              "    </tr>\n",
              "    <tr>\n",
              "      <th>mean</th>\n",
              "      <td>178.361583</td>\n",
              "      <td>178.902917</td>\n",
              "      <td>199.913250</td>\n",
              "      <td>163.68275</td>\n",
              "    </tr>\n",
              "    <tr>\n",
              "      <th>std</th>\n",
              "      <td>13.173594</td>\n",
              "      <td>14.957114</td>\n",
              "      <td>16.539033</td>\n",
              "      <td>15.08508</td>\n",
              "    </tr>\n",
              "    <tr>\n",
              "      <th>min</th>\n",
              "      <td>138.300000</td>\n",
              "      <td>140.550000</td>\n",
              "      <td>159.690000</td>\n",
              "      <td>124.06000</td>\n",
              "    </tr>\n",
              "    <tr>\n",
              "      <th>25%</th>\n",
              "      <td>170.335000</td>\n",
              "      <td>168.025000</td>\n",
              "      <td>188.232500</td>\n",
              "      <td>154.05000</td>\n",
              "    </tr>\n",
              "    <tr>\n",
              "      <th>50%</th>\n",
              "      <td>178.530000</td>\n",
              "      <td>178.870000</td>\n",
              "      <td>199.805000</td>\n",
              "      <td>164.42500</td>\n",
              "    </tr>\n",
              "    <tr>\n",
              "      <th>75%</th>\n",
              "      <td>186.535000</td>\n",
              "      <td>189.112500</td>\n",
              "      <td>211.332500</td>\n",
              "      <td>172.88250</td>\n",
              "    </tr>\n",
              "    <tr>\n",
              "      <th>max</th>\n",
              "      <td>216.390000</td>\n",
              "      <td>217.860000</td>\n",
              "      <td>238.700000</td>\n",
              "      <td>205.18000</td>\n",
              "    </tr>\n",
              "  </tbody>\n",
              "</table>\n",
              "</div>\n",
              "      <button class=\"colab-df-convert\" onclick=\"convertToInteractive('df-ce7aa781-e018-4cc4-82b6-34388071a640')\"\n",
              "              title=\"Convert this dataframe to an interactive table.\"\n",
              "              style=\"display:none;\">\n",
              "        \n",
              "  <svg xmlns=\"http://www.w3.org/2000/svg\" height=\"24px\"viewBox=\"0 0 24 24\"\n",
              "       width=\"24px\">\n",
              "    <path d=\"M0 0h24v24H0V0z\" fill=\"none\"/>\n",
              "    <path d=\"M18.56 5.44l.94 2.06.94-2.06 2.06-.94-2.06-.94-.94-2.06-.94 2.06-2.06.94zm-11 1L8.5 8.5l.94-2.06 2.06-.94-2.06-.94L8.5 2.5l-.94 2.06-2.06.94zm10 10l.94 2.06.94-2.06 2.06-.94-2.06-.94-.94-2.06-.94 2.06-2.06.94z\"/><path d=\"M17.41 7.96l-1.37-1.37c-.4-.4-.92-.59-1.43-.59-.52 0-1.04.2-1.43.59L10.3 9.45l-7.72 7.72c-.78.78-.78 2.05 0 2.83L4 21.41c.39.39.9.59 1.41.59.51 0 1.02-.2 1.41-.59l7.78-7.78 2.81-2.81c.8-.78.8-2.07 0-2.86zM5.41 20L4 18.59l7.72-7.72 1.47 1.35L5.41 20z\"/>\n",
              "  </svg>\n",
              "      </button>\n",
              "      \n",
              "  <style>\n",
              "    .colab-df-container {\n",
              "      display:flex;\n",
              "      flex-wrap:wrap;\n",
              "      gap: 12px;\n",
              "    }\n",
              "\n",
              "    .colab-df-convert {\n",
              "      background-color: #E8F0FE;\n",
              "      border: none;\n",
              "      border-radius: 50%;\n",
              "      cursor: pointer;\n",
              "      display: none;\n",
              "      fill: #1967D2;\n",
              "      height: 32px;\n",
              "      padding: 0 0 0 0;\n",
              "      width: 32px;\n",
              "    }\n",
              "\n",
              "    .colab-df-convert:hover {\n",
              "      background-color: #E2EBFA;\n",
              "      box-shadow: 0px 1px 2px rgba(60, 64, 67, 0.3), 0px 1px 3px 1px rgba(60, 64, 67, 0.15);\n",
              "      fill: #174EA6;\n",
              "    }\n",
              "\n",
              "    [theme=dark] .colab-df-convert {\n",
              "      background-color: #3B4455;\n",
              "      fill: #D2E3FC;\n",
              "    }\n",
              "\n",
              "    [theme=dark] .colab-df-convert:hover {\n",
              "      background-color: #434B5C;\n",
              "      box-shadow: 0px 1px 3px 1px rgba(0, 0, 0, 0.15);\n",
              "      filter: drop-shadow(0px 1px 2px rgba(0, 0, 0, 0.3));\n",
              "      fill: #FFFFFF;\n",
              "    }\n",
              "  </style>\n",
              "\n",
              "      <script>\n",
              "        const buttonEl =\n",
              "          document.querySelector('#df-ce7aa781-e018-4cc4-82b6-34388071a640 button.colab-df-convert');\n",
              "        buttonEl.style.display =\n",
              "          google.colab.kernel.accessAllowed ? 'block' : 'none';\n",
              "\n",
              "        async function convertToInteractive(key) {\n",
              "          const element = document.querySelector('#df-ce7aa781-e018-4cc4-82b6-34388071a640');\n",
              "          const dataTable =\n",
              "            await google.colab.kernel.invokeFunction('convertToInteractive',\n",
              "                                                     [key], {});\n",
              "          if (!dataTable) return;\n",
              "\n",
              "          const docLinkHtml = 'Like what you see? Visit the ' +\n",
              "            '<a target=\"_blank\" href=https://colab.research.google.com/notebooks/data_table.ipynb>data table notebook</a>'\n",
              "            + ' to learn more about interactive tables.';\n",
              "          element.innerHTML = '';\n",
              "          dataTable['output_type'] = 'display_data';\n",
              "          await google.colab.output.renderOutput(dataTable, element);\n",
              "          const docLink = document.createElement('div');\n",
              "          docLink.innerHTML = docLinkHtml;\n",
              "          element.appendChild(docLink);\n",
              "        }\n",
              "      </script>\n",
              "    </div>\n",
              "  </div>\n",
              "  "
            ]
          },
          "metadata": {},
          "execution_count": 23
        }
      ]
    },
    {
      "cell_type": "code",
      "source": [
        "labtat.isnull().sum()"
      ],
      "metadata": {
        "colab": {
          "base_uri": "https://localhost:8080/"
        },
        "id": "4fKFRqts1prg",
        "outputId": "87b7af14-b1ea-43bd-e717-f9b466467f0d"
      },
      "execution_count": 25,
      "outputs": [
        {
          "output_type": "execute_result",
          "data": {
            "text/plain": [
              "Laboratory 1    0\n",
              "Laboratory 2    0\n",
              "Laboratory 3    0\n",
              "Laboratory 4    0\n",
              "dtype: int64"
            ]
          },
          "metadata": {},
          "execution_count": 25
        }
      ]
    },
    {
      "cell_type": "code",
      "source": [
        "labtat[labtat.duplicated()] # There are no null values."
      ],
      "metadata": {
        "colab": {
          "base_uri": "https://localhost:8080/",
          "height": 49
        },
        "id": "XRlPq_lq1r3j",
        "outputId": "b5465bd6-20bb-481e-d722-9f36bfba4924"
      },
      "execution_count": 27,
      "outputs": [
        {
          "output_type": "execute_result",
          "data": {
            "text/plain": [
              "Empty DataFrame\n",
              "Columns: [Laboratory 1, Laboratory 2, Laboratory 3, Laboratory 4]\n",
              "Index: []"
            ],
            "text/html": [
              "\n",
              "  <div id=\"df-8e2ee191-63ec-43a2-bef1-d6d26b7a7ba5\">\n",
              "    <div class=\"colab-df-container\">\n",
              "      <div>\n",
              "<style scoped>\n",
              "    .dataframe tbody tr th:only-of-type {\n",
              "        vertical-align: middle;\n",
              "    }\n",
              "\n",
              "    .dataframe tbody tr th {\n",
              "        vertical-align: top;\n",
              "    }\n",
              "\n",
              "    .dataframe thead th {\n",
              "        text-align: right;\n",
              "    }\n",
              "</style>\n",
              "<table border=\"1\" class=\"dataframe\">\n",
              "  <thead>\n",
              "    <tr style=\"text-align: right;\">\n",
              "      <th></th>\n",
              "      <th>Laboratory 1</th>\n",
              "      <th>Laboratory 2</th>\n",
              "      <th>Laboratory 3</th>\n",
              "      <th>Laboratory 4</th>\n",
              "    </tr>\n",
              "  </thead>\n",
              "  <tbody>\n",
              "  </tbody>\n",
              "</table>\n",
              "</div>\n",
              "      <button class=\"colab-df-convert\" onclick=\"convertToInteractive('df-8e2ee191-63ec-43a2-bef1-d6d26b7a7ba5')\"\n",
              "              title=\"Convert this dataframe to an interactive table.\"\n",
              "              style=\"display:none;\">\n",
              "        \n",
              "  <svg xmlns=\"http://www.w3.org/2000/svg\" height=\"24px\"viewBox=\"0 0 24 24\"\n",
              "       width=\"24px\">\n",
              "    <path d=\"M0 0h24v24H0V0z\" fill=\"none\"/>\n",
              "    <path d=\"M18.56 5.44l.94 2.06.94-2.06 2.06-.94-2.06-.94-.94-2.06-.94 2.06-2.06.94zm-11 1L8.5 8.5l.94-2.06 2.06-.94-2.06-.94L8.5 2.5l-.94 2.06-2.06.94zm10 10l.94 2.06.94-2.06 2.06-.94-2.06-.94-.94-2.06-.94 2.06-2.06.94z\"/><path d=\"M17.41 7.96l-1.37-1.37c-.4-.4-.92-.59-1.43-.59-.52 0-1.04.2-1.43.59L10.3 9.45l-7.72 7.72c-.78.78-.78 2.05 0 2.83L4 21.41c.39.39.9.59 1.41.59.51 0 1.02-.2 1.41-.59l7.78-7.78 2.81-2.81c.8-.78.8-2.07 0-2.86zM5.41 20L4 18.59l7.72-7.72 1.47 1.35L5.41 20z\"/>\n",
              "  </svg>\n",
              "      </button>\n",
              "      \n",
              "  <style>\n",
              "    .colab-df-container {\n",
              "      display:flex;\n",
              "      flex-wrap:wrap;\n",
              "      gap: 12px;\n",
              "    }\n",
              "\n",
              "    .colab-df-convert {\n",
              "      background-color: #E8F0FE;\n",
              "      border: none;\n",
              "      border-radius: 50%;\n",
              "      cursor: pointer;\n",
              "      display: none;\n",
              "      fill: #1967D2;\n",
              "      height: 32px;\n",
              "      padding: 0 0 0 0;\n",
              "      width: 32px;\n",
              "    }\n",
              "\n",
              "    .colab-df-convert:hover {\n",
              "      background-color: #E2EBFA;\n",
              "      box-shadow: 0px 1px 2px rgba(60, 64, 67, 0.3), 0px 1px 3px 1px rgba(60, 64, 67, 0.15);\n",
              "      fill: #174EA6;\n",
              "    }\n",
              "\n",
              "    [theme=dark] .colab-df-convert {\n",
              "      background-color: #3B4455;\n",
              "      fill: #D2E3FC;\n",
              "    }\n",
              "\n",
              "    [theme=dark] .colab-df-convert:hover {\n",
              "      background-color: #434B5C;\n",
              "      box-shadow: 0px 1px 3px 1px rgba(0, 0, 0, 0.15);\n",
              "      filter: drop-shadow(0px 1px 2px rgba(0, 0, 0, 0.3));\n",
              "      fill: #FFFFFF;\n",
              "    }\n",
              "  </style>\n",
              "\n",
              "      <script>\n",
              "        const buttonEl =\n",
              "          document.querySelector('#df-8e2ee191-63ec-43a2-bef1-d6d26b7a7ba5 button.colab-df-convert');\n",
              "        buttonEl.style.display =\n",
              "          google.colab.kernel.accessAllowed ? 'block' : 'none';\n",
              "\n",
              "        async function convertToInteractive(key) {\n",
              "          const element = document.querySelector('#df-8e2ee191-63ec-43a2-bef1-d6d26b7a7ba5');\n",
              "          const dataTable =\n",
              "            await google.colab.kernel.invokeFunction('convertToInteractive',\n",
              "                                                     [key], {});\n",
              "          if (!dataTable) return;\n",
              "\n",
              "          const docLinkHtml = 'Like what you see? Visit the ' +\n",
              "            '<a target=\"_blank\" href=https://colab.research.google.com/notebooks/data_table.ipynb>data table notebook</a>'\n",
              "            + ' to learn more about interactive tables.';\n",
              "          element.innerHTML = '';\n",
              "          dataTable['output_type'] = 'display_data';\n",
              "          await google.colab.output.renderOutput(dataTable, element);\n",
              "          const docLink = document.createElement('div');\n",
              "          docLink.innerHTML = docLinkHtml;\n",
              "          element.appendChild(docLink);\n",
              "        }\n",
              "      </script>\n",
              "    </div>\n",
              "  </div>\n",
              "  "
            ]
          },
          "metadata": {},
          "execution_count": 27
        }
      ]
    },
    {
      "cell_type": "code",
      "source": [
        "labtat.info()"
      ],
      "metadata": {
        "colab": {
          "base_uri": "https://localhost:8080/"
        },
        "id": "dzvetEd11yj6",
        "outputId": "57949edb-2a6a-494e-a2fb-2f4ed449b567"
      },
      "execution_count": 28,
      "outputs": [
        {
          "output_type": "stream",
          "name": "stdout",
          "text": [
            "<class 'pandas.core.frame.DataFrame'>\n",
            "RangeIndex: 120 entries, 0 to 119\n",
            "Data columns (total 4 columns):\n",
            " #   Column        Non-Null Count  Dtype  \n",
            "---  ------        --------------  -----  \n",
            " 0   Laboratory 1  120 non-null    float64\n",
            " 1   Laboratory 2  120 non-null    float64\n",
            " 2   Laboratory 3  120 non-null    float64\n",
            " 3   Laboratory 4  120 non-null    float64\n",
            "dtypes: float64(4)\n",
            "memory usage: 3.9 KB\n"
          ]
        }
      ]
    },
    {
      "cell_type": "code",
      "source": [
        "plt.subplots(figsize=(16,9))\n",
        "\n",
        "plt.subplot(221)\n",
        "plt.boxplot(labtat['Laboratory 1'])\n",
        "plt.title('Laboratory 1')\n",
        "\n",
        "plt.subplot(222)\n",
        "plt.boxplot(labtat['Laboratory 2'])\n",
        "plt.title('Laboratory 2')\n",
        "\n",
        "plt.subplot(223)\n",
        "plt.boxplot(labtat['Laboratory 3'])\n",
        "plt.title('Laboratory 3')\n",
        "\n",
        "plt.subplot(224)\n",
        "plt.boxplot(labtat['Laboratory 4'])\n",
        "plt.title('Laboratory 4')\n",
        "\n",
        "plt.show()"
      ],
      "metadata": {
        "colab": {
          "base_uri": "https://localhost:8080/",
          "height": 553
        },
        "id": "a04bPKjh132q",
        "outputId": "83ab7bef-0975-4eae-a9be-50900b011ec1"
      },
      "execution_count": 30,
      "outputs": [
        {
          "output_type": "display_data",
          "data": {
            "text/plain": [
              "<Figure size 1152x648 with 4 Axes>"
            ],
            "image/png": "[encoded data removed]"
          },
          "metadata": {
            "needs_background": "light"
          }
        }
      ]
    },
    {
      "cell_type": "code",
      "source": [
        "# Histogram\n",
        "\n",
        "plt.subplots(figsize=(16,9))\n",
        "\n",
        "plt.subplot(221)\n",
        "plt.hist(labtat['Laboratory 1'])\n",
        "plt.title('Laboratory 1')\n",
        "\n",
        "plt.subplot(222)\n",
        "plt.hist(labtat['Laboratory 2'])\n",
        "plt.title('Laboratory 2')\n",
        "\n",
        "plt.subplot(223)\n",
        "plt.hist(labtat['Laboratory 3'])\n",
        "plt.title('Laboratory 3')\n",
        "\n",
        "plt.subplot(224)\n",
        "plt.hist(labtat['Laboratory 4'])\n",
        "plt.title('Laboratory 4')\n",
        "\n",
        "plt.show()"
      ],
      "metadata": {
        "colab": {
          "base_uri": "https://localhost:8080/",
          "height": 553
        },
        "id": "ju97rfRT2nl4",
        "outputId": "74b73bc5-76a0-4bce-8c58-9571fff11da3"
      },
      "execution_count": 33,
      "outputs": [
        {
          "output_type": "display_data",
          "data": {
            "text/plain": [
              "<Figure size 1152x648 with 4 Axes>"
            ],
            "image/png": "[encoded data removed]"
          },
          "metadata": {
            "needs_background": "light"
          }
        }
      ]
    },
    {
      "cell_type": "code",
      "source": [
        "plt.figure(figsize=(10,8))\n",
        "labels=['Lab 1','Lab 2','Lab 3','Lab 4']\n",
        "sns.distplot(labtat['Laboratory 1'],kde=True)\n",
        "sns.distplot(labtat['Laboratory 2'],kde=True)\n",
        "sns.distplot(labtat['Laboratory 3'],kde=True)\n",
        "sns.distplot(labtat['Laboratory 4'],kde=True)\n",
        "\n",
        "plt.legend(labels);"
      ],
      "metadata": {
        "colab": {
          "base_uri": "https://localhost:8080/",
          "height": 497
        },
        "id": "s7rJukQX21Dt",
        "outputId": "ef5bcb18-3e9f-43c0-e713-3587c058232a"
      },
      "execution_count": 35,
      "outputs": [
        {
          "output_type": "display_data",
          "data": {
            "text/plain": [
              "<Figure size 720x576 with 1 Axes>"
            ],
            "image/png": "[encoded data removed]"
          },
          "metadata": {
            "needs_background": "light"
          }
        }
      ]
    },
    {
      "cell_type": "markdown",
      "source": [
        "**Step 4**\n",
        "\n",
        "Compare evidences with Hypothesis using t-statistic."
      ],
      "metadata": {
        "id": "Djup2xns4IJG"
      }
    },
    {
      "cell_type": "code",
      "source": [
        "test_statistic,p_value=stats.f_oneway(labtat.iloc[:,0],labtat.iloc[:,1],labtat.iloc[:,2],labtat.iloc[:,3])\n",
        "print(\"p-value= \",p_value)"
      ],
      "metadata": {
        "colab": {
          "base_uri": "https://localhost:8080/"
        },
        "id": "2hhP7kri3Z0k",
        "outputId": "8c86dd5f-ad42-4b6e-f3cc-bf62b5a816b1"
      },
      "execution_count": 38,
      "outputs": [
        {
          "output_type": "stream",
          "name": "stdout",
          "text": [
            "p-value=  2.1156708949992414e-57\n"
          ]
        }
      ]
    },
    {
      "cell_type": "markdown",
      "source": [
        "1. Compare p-value with $\\alpha$ (Significance Level).\n",
        "\n",
        "2. If p-value $\\leq \\alpha$, we failed to reject Null Hypothesis beacause of lack of evidence.\n",
        "\n",
        "3. If p-value $ > \\alpha$, we reject Null Hypothesis.\n",
        "\n",
        "# **Interpreting p-value**"
      ],
      "metadata": {
        "id": "lZY1POdK43Ka"
      }
    },
    {
      "cell_type": "code",
      "source": [
        "alpha=0.05\n",
        "print(\"Significance=%0.3f,p-value=%0.3f\"% (alpha,p_value))\n",
        "\n",
        "if p_value <=alpha:\n",
        "  print(\"We reject Null Hypothesis as there is a significance difference between TAT reoprts of the laboratories\")\n",
        "else:\n",
        "  print(\"We fail to reject Null Hypothesis\")"
      ],
      "metadata": {
        "colab": {
          "base_uri": "https://localhost:8080/"
        },
        "id": "V3Hj1BYt4ufm",
        "outputId": "87c1f04e-af54-4501-9db3-919f0359be9a"
      },
      "execution_count": 39,
      "outputs": [
        {
          "output_type": "stream",
          "name": "stdout",
          "text": [
            "Significance=0.050,p-value=0.000\n",
            "We reject Null Hypothesis as there is a significance difference between TAT reoprts of the laboratories\n"
          ]
        }
      ]
    },
    {
      "cell_type": "markdown",
      "source": [
        "**Hence, we reject Null Hypothesis. There is a difference between TAT of reports.**"
      ],
      "metadata": {
        "id": "oBIw2Mc36qoD"
      }
    },
    {
      "cell_type": "markdown",
      "source": [
        "# ***Question 3***"
      ],
      "metadata": {
        "id": "OezCuJ04AK_N"
      }
    },
    {
      "cell_type": "markdown",
      "source": [
        "![assignmenthypo.png](data:image/png;base64,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)"
      ],
      "metadata": {
        "id": "6qNyTqbT_P6H"
      }
    },
    {
      "cell_type": "markdown",
      "source": [
        "> **Answer:** We are going to conduct a Test of Independence using $χ^2$ test with contingency table.\n",
        "\n",
        "> We need to check whether the proportion of any of these samples are different or the same.\n",
        "\n",
        "> In $χ^2$ test we work on categorical data. "
      ],
      "metadata": {
        "id": "aV1rNlSO_mP1"
      }
    },
    {
      "cell_type": "markdown",
      "source": [
        "# ***Step 1***\n",
        "\n",
        "Make two Hypothesis one contradicting to other.\n",
        "\n",
        "Null Hypothesis is what we want to prove.\n",
        "\n",
        "Null Hypothesis $H_0$: There is no association or dependency between the gender based buyer rations across regions.\n",
        "\n",
        "Alternative Hypothesis $H_A$: There is significance association or dependency between the gender based buyer rations across regions.\n",
        "\n",
        "# ***Step 2***\n",
        "\n",
        "1. Decide a cut-off value.\n",
        "\n",
        "2. Significance = 5%.\n",
        "\n",
        "3. $\\alpha=0.05$\n",
        "\n",
        "As it is a one-tailed test\n",
        "  $\\alpha=1-0.95=0.05$\n",
        "\n",
        "# ***Step 3***\n",
        "\n",
        "Collect evidence."
      ],
      "metadata": {
        "id": "26Vsl5OxAn_a"
      }
    },
    {
      "cell_type": "code",
      "source": [
        "from google.colab import files\n",
        "uploaded=files.upload()"
      ],
      "metadata": {
        "colab": {
          "base_uri": "https://localhost:8080/",
          "height": 74
        },
        "id": "Yhwn-PKn_ZpA",
        "outputId": "401c8abe-d4b9-4262-dfc4-8916231c1525"
      },
      "execution_count": 47,
      "outputs": [
        {
          "output_type": "display_data",
          "data": {
            "text/plain": [
              "<IPython.core.display.HTML object>"
            ],
            "text/html": [
              "\n",
              "     <input type=\"file\" id=\"files-f708beec-731c-446b-aa4b-a518a8493fac\" name=\"files[]\" multiple disabled\n",
              "        style=\"border:none\" />\n",
              "     <output id=\"result-f708beec-731c-446b-aa4b-a518a8493fac\">\n",
              "      Upload widget is only available when the cell has been executed in the\n",
              "      current browser session. Please rerun this cell to enable.\n",
              "      </output>\n",
              "      <script>// Copyright 2017 Google LLC\n",
              "//\n",
              "// Licensed under the Apache License, Version 2.0 (the \"License\");\n",
              "// you may not use this file except in compliance with the License.\n",
              "// You may obtain a copy of the License at\n",
              "//\n",
              "//      http://www.apache.org/licenses/LICENSE-2.0\n",
              "//\n",
              "// Unless required by applicable law or agreed to in writing, software\n",
              "// distributed under the License is distributed on an \"AS IS\" BASIS,\n",
              "// WITHOUT WARRANTIES OR CONDITIONS OF ANY KIND, either express or implied.\n",
              "// See the License for the specific language governing permissions and\n",
              "// limitations under the License.\n",
              "\n",
              "/**\n",
              " * @fileoverview Helpers for google.colab Python module.\n",
              " */\n",
              "(function(scope) {\n",
              "function span(text, styleAttributes = {}) {\n",
              "  const element = document.createElement('span');\n",
              "  element.textContent = text;\n",
              "  for (const key of Object.keys(styleAttributes)) {\n",
              "    element.style[key] = styleAttributes[key];\n",
              "  }\n",
              "  return element;\n",
              "}\n",
              "\n",
              "// Max number of bytes which will be uploaded at a time.\n",
              "const MAX_PAYLOAD_SIZE = 100 * 1024;\n",
              "\n",
              "function _uploadFiles(inputId, outputId) {\n",
              "  const steps = uploadFilesStep(inputId, outputId);\n",
              "  const outputElement = document.getElementById(outputId);\n",
              "  // Cache steps on the outputElement to make it available for the next call\n",
              "  // to uploadFilesContinue from Python.\n",
              "  outputElement.steps = steps;\n",
              "\n",
              "  return _uploadFilesContinue(outputId);\n",
              "}\n",
              "\n",
              "// This is roughly an async generator (not supported in the browser yet),\n",
              "// where there are multiple asynchronous steps and the Python side is going\n",
              "// to poll for completion of each step.\n",
              "// This uses a Promise to block the python side on completion of each step,\n",
              "// then passes the result of the previous step as the input to the next step.\n",
              "function _uploadFilesContinue(outputId) {\n",
              "  const outputElement = document.getElementById(outputId);\n",
              "  const steps = outputElement.steps;\n",
              "\n",
              "  const next = steps.next(outputElement.lastPromiseValue);\n",
              "  return Promise.resolve(next.value.promise).then((value) => {\n",
              "    // Cache the last promise value to make it available to the next\n",
              "    // step of the generator.\n",
              "    outputElement.lastPromiseValue = value;\n",
              "    return next.value.response;\n",
              "  });\n",
              "}\n",
              "\n",
              "/**\n",
              " * Generator function which is called between each async step of the upload\n",
              " * process.\n",
              " * @param {string} inputId Element ID of the input file picker element.\n",
              " * @param {string} outputId Element ID of the output display.\n",
              " * @return {!Iterable<!Object>} Iterable of next steps.\n",
              " */\n",
              "function* uploadFilesStep(inputId, outputId) {\n",
              "  const inputElement = document.getElementById(inputId);\n",
              "  inputElement.disabled = false;\n",
              "\n",
              "  const outputElement = document.getElementById(outputId);\n",
              "  outputElement.innerHTML = '';\n",
              "\n",
              "  const pickedPromise = new Promise((resolve) => {\n",
              "    inputElement.addEventListener('change', (e) => {\n",
              "      resolve(e.target.files);\n",
              "    });\n",
              "  });\n",
              "\n",
              "  const cancel = document.createElement('button');\n",
              "  inputElement.parentElement.appendChild(cancel);\n",
              "  cancel.textContent = 'Cancel upload';\n",
              "  const cancelPromise = new Promise((resolve) => {\n",
              "    cancel.onclick = () => {\n",
              "      resolve(null);\n",
              "    };\n",
              "  });\n",
              "\n",
              "  // Wait for the user to pick the files.\n",
              "  const files = yield {\n",
              "    promise: Promise.race([pickedPromise, cancelPromise]),\n",
              "    response: {\n",
              "      action: 'starting',\n",
              "    }\n",
              "  };\n",
              "\n",
              "  cancel.remove();\n",
              "\n",
              "  // Disable the input element since further picks are not allowed.\n",
              "  inputElement.disabled = true;\n",
              "\n",
              "  if (!files) {\n",
              "    return {\n",
              "      response: {\n",
              "        action: 'complete',\n",
              "      }\n",
              "    };\n",
              "  }\n",
              "\n",
              "  for (const file of files) {\n",
              "    const li = document.createElement('li');\n",
              "    li.append(span(file.name, {fontWeight: 'bold'}));\n",
              "    li.append(span(\n",
              "        `(${file.type || 'n/a'}) - ${file.size} bytes, ` +\n",
              "        `last modified: ${\n",
              "            file.lastModifiedDate ? file.lastModifiedDate.toLocaleDateString() :\n",
              "                                    'n/a'} - `));\n",
              "    const percent = span('0% done');\n",
              "    li.appendChild(percent);\n",
              "\n",
              "    outputElement.appendChild(li);\n",
              "\n",
              "    const fileDataPromise = new Promise((resolve) => {\n",
              "      const reader = new FileReader();\n",
              "      reader.onload = (e) => {\n",
              "        resolve(e.target.result);\n",
              "      };\n",
              "      reader.readAsArrayBuffer(file);\n",
              "    });\n",
              "    // Wait for the data to be ready.\n",
              "    let fileData = yield {\n",
              "      promise: fileDataPromise,\n",
              "      response: {\n",
              "        action: 'continue',\n",
              "      }\n",
              "    };\n",
              "\n",
              "    // Use a chunked sending to avoid message size limits. See b/62115660.\n",
              "    let position = 0;\n",
              "    do {\n",
              "      const length = Math.min(fileData.byteLength - position, MAX_PAYLOAD_SIZE);\n",
              "      const chunk = new Uint8Array(fileData, position, length);\n",
              "      position += length;\n",
              "\n",
              "      const base64 = btoa(String.fromCharCode.apply(null, chunk));\n",
              "      yield {\n",
              "        response: {\n",
              "          action: 'append',\n",
              "          file: file.name,\n",
              "          data: base64,\n",
              "        },\n",
              "      };\n",
              "\n",
              "      let percentDone = fileData.byteLength === 0 ?\n",
              "          100 :\n",
              "          Math.round((position / fileData.byteLength) * 100);\n",
              "      percent.textContent = `${percentDone}% done`;\n",
              "\n",
              "    } while (position < fileData.byteLength);\n",
              "  }\n",
              "\n",
              "  // All done.\n",
              "  yield {\n",
              "    response: {\n",
              "      action: 'complete',\n",
              "    }\n",
              "  };\n",
              "}\n",
              "\n",
              "scope.google = scope.google || {};\n",
              "scope.google.colab = scope.google.colab || {};\n",
              "scope.google.colab._files = {\n",
              "  _uploadFiles,\n",
              "  _uploadFilesContinue,\n",
              "};\n",
              "})(self);\n",
              "</script> "
            ]
          },
          "metadata": {}
        },
        {
          "output_type": "stream",
          "name": "stdout",
          "text": [
            "Saving BuyerRatio.csv to BuyerRatio.csv\n"
          ]
        }
      ]
    },
    {
      "cell_type": "code",
      "source": [
        "buyer=pd.read_csv(\"BuyerRatio.csv\")"
      ],
      "metadata": {
        "id": "az5Yz9WaCMe_"
      },
      "execution_count": 48,
      "outputs": []
    },
    {
      "cell_type": "code",
      "source": [
        "buyer"
      ],
      "metadata": {
        "colab": {
          "base_uri": "https://localhost:8080/",
          "height": 112
        },
        "id": "Ya1S3IA2CUXt",
        "outputId": "595832f4-c51f-4b23-e6c7-7314a1c00431"
      },
      "execution_count": 49,
      "outputs": [
        {
          "output_type": "execute_result",
          "data": {
            "text/plain": [
              "  Observed Values  East  West  North  South\n",
              "0           Males    50   142    131     70\n",
              "1         Females   435  1523   1356    750"
            ],
            "text/html": [
              "\n",
              "  <div id=\"df-91dd0229-99b6-4a8c-93b8-e6020fbe6a24\">\n",
              "    <div class=\"colab-df-container\">\n",
              "      <div>\n",
              "<style scoped>\n",
              "    .dataframe tbody tr th:only-of-type {\n",
              "        vertical-align: middle;\n",
              "    }\n",
              "\n",
              "    .dataframe tbody tr th {\n",
              "        vertical-align: top;\n",
              "    }\n",
              "\n",
              "    .dataframe thead th {\n",
              "        text-align: right;\n",
              "    }\n",
              "</style>\n",
              "<table border=\"1\" class=\"dataframe\">\n",
              "  <thead>\n",
              "    <tr style=\"text-align: right;\">\n",
              "      <th></th>\n",
              "      <th>Observed Values</th>\n",
              "      <th>East</th>\n",
              "      <th>West</th>\n",
              "      <th>North</th>\n",
              "      <th>South</th>\n",
              "    </tr>\n",
              "  </thead>\n",
              "  <tbody>\n",
              "    <tr>\n",
              "      <th>0</th>\n",
              "      <td>Males</td>\n",
              "      <td>50</td>\n",
              "      <td>142</td>\n",
              "      <td>131</td>\n",
              "      <td>70</td>\n",
              "    </tr>\n",
              "    <tr>\n",
              "      <th>1</th>\n",
              "      <td>Females</td>\n",
              "      <td>435</td>\n",
              "      <td>1523</td>\n",
              "      <td>1356</td>\n",
              "      <td>750</td>\n",
              "    </tr>\n",
              "  </tbody>\n",
              "</table>\n",
              "</div>\n",
              "      <button class=\"colab-df-convert\" onclick=\"convertToInteractive('df-91dd0229-99b6-4a8c-93b8-e6020fbe6a24')\"\n",
              "              title=\"Convert this dataframe to an interactive table.\"\n",
              "              style=\"display:none;\">\n",
              "        \n",
              "  <svg xmlns=\"http://www.w3.org/2000/svg\" height=\"24px\"viewBox=\"0 0 24 24\"\n",
              "       width=\"24px\">\n",
              "    <path d=\"M0 0h24v24H0V0z\" fill=\"none\"/>\n",
              "    <path d=\"M18.56 5.44l.94 2.06.94-2.06 2.06-.94-2.06-.94-.94-2.06-.94 2.06-2.06.94zm-11 1L8.5 8.5l.94-2.06 2.06-.94-2.06-.94L8.5 2.5l-.94 2.06-2.06.94zm10 10l.94 2.06.94-2.06 2.06-.94-2.06-.94-.94-2.06-.94 2.06-2.06.94z\"/><path d=\"M17.41 7.96l-1.37-1.37c-.4-.4-.92-.59-1.43-.59-.52 0-1.04.2-1.43.59L10.3 9.45l-7.72 7.72c-.78.78-.78 2.05 0 2.83L4 21.41c.39.39.9.59 1.41.59.51 0 1.02-.2 1.41-.59l7.78-7.78 2.81-2.81c.8-.78.8-2.07 0-2.86zM5.41 20L4 18.59l7.72-7.72 1.47 1.35L5.41 20z\"/>\n",
              "  </svg>\n",
              "      </button>\n",
              "      \n",
              "  <style>\n",
              "    .colab-df-container {\n",
              "      display:flex;\n",
              "      flex-wrap:wrap;\n",
              "      gap: 12px;\n",
              "    }\n",
              "\n",
              "    .colab-df-convert {\n",
              "      background-color: #E8F0FE;\n",
              "      border: none;\n",
              "      border-radius: 50%;\n",
              "      cursor: pointer;\n",
              "      display: none;\n",
              "      fill: #1967D2;\n",
              "      height: 32px;\n",
              "      padding: 0 0 0 0;\n",
              "      width: 32px;\n",
              "    }\n",
              "\n",
              "    .colab-df-convert:hover {\n",
              "      background-color: #E2EBFA;\n",
              "      box-shadow: 0px 1px 2px rgba(60, 64, 67, 0.3), 0px 1px 3px 1px rgba(60, 64, 67, 0.15);\n",
              "      fill: #174EA6;\n",
              "    }\n",
              "\n",
              "    [theme=dark] .colab-df-convert {\n",
              "      background-color: #3B4455;\n",
              "      fill: #D2E3FC;\n",
              "    }\n",
              "\n",
              "    [theme=dark] .colab-df-convert:hover {\n",
              "      background-color: #434B5C;\n",
              "      box-shadow: 0px 1px 3px 1px rgba(0, 0, 0, 0.15);\n",
              "      filter: drop-shadow(0px 1px 2px rgba(0, 0, 0, 0.3));\n",
              "      fill: #FFFFFF;\n",
              "    }\n",
              "  </style>\n",
              "\n",
              "      <script>\n",
              "        const buttonEl =\n",
              "          document.querySelector('#df-91dd0229-99b6-4a8c-93b8-e6020fbe6a24 button.colab-df-convert');\n",
              "        buttonEl.style.display =\n",
              "          google.colab.kernel.accessAllowed ? 'block' : 'none';\n",
              "\n",
              "        async function convertToInteractive(key) {\n",
              "          const element = document.querySelector('#df-91dd0229-99b6-4a8c-93b8-e6020fbe6a24');\n",
              "          const dataTable =\n",
              "            await google.colab.kernel.invokeFunction('convertToInteractive',\n",
              "                                                     [key], {});\n",
              "          if (!dataTable) return;\n",
              "\n",
              "          const docLinkHtml = 'Like what you see? Visit the ' +\n",
              "            '<a target=\"_blank\" href=https://colab.research.google.com/notebooks/data_table.ipynb>data table notebook</a>'\n",
              "            + ' to learn more about interactive tables.';\n",
              "          element.innerHTML = '';\n",
              "          dataTable['output_type'] = 'display_data';\n",
              "          await google.colab.output.renderOutput(dataTable, element);\n",
              "          const docLink = document.createElement('div');\n",
              "          docLink.innerHTML = docLinkHtml;\n",
              "          element.appendChild(docLink);\n",
              "        }\n",
              "      </script>\n",
              "    </div>\n",
              "  </div>\n",
              "  "
            ]
          },
          "metadata": {},
          "execution_count": 49
        }
      ]
    },
    {
      "cell_type": "code",
      "source": [
        "buyer.head()"
      ],
      "metadata": {
        "colab": {
          "base_uri": "https://localhost:8080/",
          "height": 112
        },
        "id": "MKvXjRwlCWH3",
        "outputId": "fee9809c-2500-45f3-a36e-70f2dd5f0507"
      },
      "execution_count": 50,
      "outputs": [
        {
          "output_type": "execute_result",
          "data": {
            "text/plain": [
              "  Observed Values  East  West  North  South\n",
              "0           Males    50   142    131     70\n",
              "1         Females   435  1523   1356    750"
            ],
            "text/html": [
              "\n",
              "  <div id=\"df-5ba91ac7-431e-4c3c-b23c-faf09c64b9fd\">\n",
              "    <div class=\"colab-df-container\">\n",
              "      <div>\n",
              "<style scoped>\n",
              "    .dataframe tbody tr th:only-of-type {\n",
              "        vertical-align: middle;\n",
              "    }\n",
              "\n",
              "    .dataframe tbody tr th {\n",
              "        vertical-align: top;\n",
              "    }\n",
              "\n",
              "    .dataframe thead th {\n",
              "        text-align: right;\n",
              "    }\n",
              "</style>\n",
              "<table border=\"1\" class=\"dataframe\">\n",
              "  <thead>\n",
              "    <tr style=\"text-align: right;\">\n",
              "      <th></th>\n",
              "      <th>Observed Values</th>\n",
              "      <th>East</th>\n",
              "      <th>West</th>\n",
              "      <th>North</th>\n",
              "      <th>South</th>\n",
              "    </tr>\n",
              "  </thead>\n",
              "  <tbody>\n",
              "    <tr>\n",
              "      <th>0</th>\n",
              "      <td>Males</td>\n",
              "      <td>50</td>\n",
              "      <td>142</td>\n",
              "      <td>131</td>\n",
              "      <td>70</td>\n",
              "    </tr>\n",
              "    <tr>\n",
              "      <th>1</th>\n",
              "      <td>Females</td>\n",
              "      <td>435</td>\n",
              "      <td>1523</td>\n",
              "      <td>1356</td>\n",
              "      <td>750</td>\n",
              "    </tr>\n",
              "  </tbody>\n",
              "</table>\n",
              "</div>\n",
              "      <button class=\"colab-df-convert\" onclick=\"convertToInteractive('df-5ba91ac7-431e-4c3c-b23c-faf09c64b9fd')\"\n",
              "              title=\"Convert this dataframe to an interactive table.\"\n",
              "              style=\"display:none;\">\n",
              "        \n",
              "  <svg xmlns=\"http://www.w3.org/2000/svg\" height=\"24px\"viewBox=\"0 0 24 24\"\n",
              "       width=\"24px\">\n",
              "    <path d=\"M0 0h24v24H0V0z\" fill=\"none\"/>\n",
              "    <path d=\"M18.56 5.44l.94 2.06.94-2.06 2.06-.94-2.06-.94-.94-2.06-.94 2.06-2.06.94zm-11 1L8.5 8.5l.94-2.06 2.06-.94-2.06-.94L8.5 2.5l-.94 2.06-2.06.94zm10 10l.94 2.06.94-2.06 2.06-.94-2.06-.94-.94-2.06-.94 2.06-2.06.94z\"/><path d=\"M17.41 7.96l-1.37-1.37c-.4-.4-.92-.59-1.43-.59-.52 0-1.04.2-1.43.59L10.3 9.45l-7.72 7.72c-.78.78-.78 2.05 0 2.83L4 21.41c.39.39.9.59 1.41.59.51 0 1.02-.2 1.41-.59l7.78-7.78 2.81-2.81c.8-.78.8-2.07 0-2.86zM5.41 20L4 18.59l7.72-7.72 1.47 1.35L5.41 20z\"/>\n",
              "  </svg>\n",
              "      </button>\n",
              "      \n",
              "  <style>\n",
              "    .colab-df-container {\n",
              "      display:flex;\n",
              "      flex-wrap:wrap;\n",
              "      gap: 12px;\n",
              "    }\n",
              "\n",
              "    .colab-df-convert {\n",
              "      background-color: #E8F0FE;\n",
              "      border: none;\n",
              "      border-radius: 50%;\n",
              "      cursor: pointer;\n",
              "      display: none;\n",
              "      fill: #1967D2;\n",
              "      height: 32px;\n",
              "      padding: 0 0 0 0;\n",
              "      width: 32px;\n",
              "    }\n",
              "\n",
              "    .colab-df-convert:hover {\n",
              "      background-color: #E2EBFA;\n",
              "      box-shadow: 0px 1px 2px rgba(60, 64, 67, 0.3), 0px 1px 3px 1px rgba(60, 64, 67, 0.15);\n",
              "      fill: #174EA6;\n",
              "    }\n",
              "\n",
              "    [theme=dark] .colab-df-convert {\n",
              "      background-color: #3B4455;\n",
              "      fill: #D2E3FC;\n",
              "    }\n",
              "\n",
              "    [theme=dark] .colab-df-convert:hover {\n",
              "      background-color: #434B5C;\n",
              "      box-shadow: 0px 1px 3px 1px rgba(0, 0, 0, 0.15);\n",
              "      filter: drop-shadow(0px 1px 2px rgba(0, 0, 0, 0.3));\n",
              "      fill: #FFFFFF;\n",
              "    }\n",
              "  </style>\n",
              "\n",
              "      <script>\n",
              "        const buttonEl =\n",
              "          document.querySelector('#df-5ba91ac7-431e-4c3c-b23c-faf09c64b9fd button.colab-df-convert');\n",
              "        buttonEl.style.display =\n",
              "          google.colab.kernel.accessAllowed ? 'block' : 'none';\n",
              "\n",
              "        async function convertToInteractive(key) {\n",
              "          const element = document.querySelector('#df-5ba91ac7-431e-4c3c-b23c-faf09c64b9fd');\n",
              "          const dataTable =\n",
              "            await google.colab.kernel.invokeFunction('convertToInteractive',\n",
              "                                                     [key], {});\n",
              "          if (!dataTable) return;\n",
              "\n",
              "          const docLinkHtml = 'Like what you see? Visit the ' +\n",
              "            '<a target=\"_blank\" href=https://colab.research.google.com/notebooks/data_table.ipynb>data table notebook</a>'\n",
              "            + ' to learn more about interactive tables.';\n",
              "          element.innerHTML = '';\n",
              "          dataTable['output_type'] = 'display_data';\n",
              "          await google.colab.output.renderOutput(dataTable, element);\n",
              "          const docLink = document.createElement('div');\n",
              "          docLink.innerHTML = docLinkHtml;\n",
              "          element.appendChild(docLink);\n",
              "        }\n",
              "      </script>\n",
              "    </div>\n",
              "  </div>\n",
              "  "
            ]
          },
          "metadata": {},
          "execution_count": 50
        }
      ]
    },
    {
      "cell_type": "code",
      "source": [
        "buyer.describe()"
      ],
      "metadata": {
        "colab": {
          "base_uri": "https://localhost:8080/",
          "height": 300
        },
        "id": "VCRtIxUUCXEq",
        "outputId": "84bc61c7-7d97-4cdf-fb50-b8c78a831876"
      },
      "execution_count": 51,
      "outputs": [
        {
          "output_type": "execute_result",
          "data": {
            "text/plain": [
              "             East         West        North       South\n",
              "count    2.000000     2.000000     2.000000    2.000000\n",
              "mean   242.500000   832.500000   743.500000  410.000000\n",
              "std    272.236111   976.514465   866.205807  480.832611\n",
              "min     50.000000   142.000000   131.000000   70.000000\n",
              "25%    146.250000   487.250000   437.250000  240.000000\n",
              "50%    242.500000   832.500000   743.500000  410.000000\n",
              "75%    338.750000  1177.750000  1049.750000  580.000000\n",
              "max    435.000000  1523.000000  1356.000000  750.000000"
            ],
            "text/html": [
              "\n",
              "  <div id=\"df-4327c7e7-867b-4eaa-b512-c351112b1b49\">\n",
              "    <div class=\"colab-df-container\">\n",
              "      <div>\n",
              "<style scoped>\n",
              "    .dataframe tbody tr th:only-of-type {\n",
              "        vertical-align: middle;\n",
              "    }\n",
              "\n",
              "    .dataframe tbody tr th {\n",
              "        vertical-align: top;\n",
              "    }\n",
              "\n",
              "    .dataframe thead th {\n",
              "        text-align: right;\n",
              "    }\n",
              "</style>\n",
              "<table border=\"1\" class=\"dataframe\">\n",
              "  <thead>\n",
              "    <tr style=\"text-align: right;\">\n",
              "      <th></th>\n",
              "      <th>East</th>\n",
              "      <th>West</th>\n",
              "      <th>North</th>\n",
              "      <th>South</th>\n",
              "    </tr>\n",
              "  </thead>\n",
              "  <tbody>\n",
              "    <tr>\n",
              "      <th>count</th>\n",
              "      <td>2.000000</td>\n",
              "      <td>2.000000</td>\n",
              "      <td>2.000000</td>\n",
              "      <td>2.000000</td>\n",
              "    </tr>\n",
              "    <tr>\n",
              "      <th>mean</th>\n",
              "      <td>242.500000</td>\n",
              "      <td>832.500000</td>\n",
              "      <td>743.500000</td>\n",
              "      <td>410.000000</td>\n",
              "    </tr>\n",
              "    <tr>\n",
              "      <th>std</th>\n",
              "      <td>272.236111</td>\n",
              "      <td>976.514465</td>\n",
              "      <td>866.205807</td>\n",
              "      <td>480.832611</td>\n",
              "    </tr>\n",
              "    <tr>\n",
              "      <th>min</th>\n",
              "      <td>50.000000</td>\n",
              "      <td>142.000000</td>\n",
              "      <td>131.000000</td>\n",
              "      <td>70.000000</td>\n",
              "    </tr>\n",
              "    <tr>\n",
              "      <th>25%</th>\n",
              "      <td>146.250000</td>\n",
              "      <td>487.250000</td>\n",
              "      <td>437.250000</td>\n",
              "      <td>240.000000</td>\n",
              "    </tr>\n",
              "    <tr>\n",
              "      <th>50%</th>\n",
              "      <td>242.500000</td>\n",
              "      <td>832.500000</td>\n",
              "      <td>743.500000</td>\n",
              "      <td>410.000000</td>\n",
              "    </tr>\n",
              "    <tr>\n",
              "      <th>75%</th>\n",
              "      <td>338.750000</td>\n",
              "      <td>1177.750000</td>\n",
              "      <td>1049.750000</td>\n",
              "      <td>580.000000</td>\n",
              "    </tr>\n",
              "    <tr>\n",
              "      <th>max</th>\n",
              "      <td>435.000000</td>\n",
              "      <td>1523.000000</td>\n",
              "      <td>1356.000000</td>\n",
              "      <td>750.000000</td>\n",
              "    </tr>\n",
              "  </tbody>\n",
              "</table>\n",
              "</div>\n",
              "      <button class=\"colab-df-convert\" onclick=\"convertToInteractive('df-4327c7e7-867b-4eaa-b512-c351112b1b49')\"\n",
              "              title=\"Convert this dataframe to an interactive table.\"\n",
              "              style=\"display:none;\">\n",
              "        \n",
              "  <svg xmlns=\"http://www.w3.org/2000/svg\" height=\"24px\"viewBox=\"0 0 24 24\"\n",
              "       width=\"24px\">\n",
              "    <path d=\"M0 0h24v24H0V0z\" fill=\"none\"/>\n",
              "    <path d=\"M18.56 5.44l.94 2.06.94-2.06 2.06-.94-2.06-.94-.94-2.06-.94 2.06-2.06.94zm-11 1L8.5 8.5l.94-2.06 2.06-.94-2.06-.94L8.5 2.5l-.94 2.06-2.06.94zm10 10l.94 2.06.94-2.06 2.06-.94-2.06-.94-.94-2.06-.94 2.06-2.06.94z\"/><path d=\"M17.41 7.96l-1.37-1.37c-.4-.4-.92-.59-1.43-.59-.52 0-1.04.2-1.43.59L10.3 9.45l-7.72 7.72c-.78.78-.78 2.05 0 2.83L4 21.41c.39.39.9.59 1.41.59.51 0 1.02-.2 1.41-.59l7.78-7.78 2.81-2.81c.8-.78.8-2.07 0-2.86zM5.41 20L4 18.59l7.72-7.72 1.47 1.35L5.41 20z\"/>\n",
              "  </svg>\n",
              "      </button>\n",
              "      \n",
              "  <style>\n",
              "    .colab-df-container {\n",
              "      display:flex;\n",
              "      flex-wrap:wrap;\n",
              "      gap: 12px;\n",
              "    }\n",
              "\n",
              "    .colab-df-convert {\n",
              "      background-color: #E8F0FE;\n",
              "      border: none;\n",
              "      border-radius: 50%;\n",
              "      cursor: pointer;\n",
              "      display: none;\n",
              "      fill: #1967D2;\n",
              "      height: 32px;\n",
              "      padding: 0 0 0 0;\n",
              "      width: 32px;\n",
              "    }\n",
              "\n",
              "    .colab-df-convert:hover {\n",
              "      background-color: #E2EBFA;\n",
              "      box-shadow: 0px 1px 2px rgba(60, 64, 67, 0.3), 0px 1px 3px 1px rgba(60, 64, 67, 0.15);\n",
              "      fill: #174EA6;\n",
              "    }\n",
              "\n",
              "    [theme=dark] .colab-df-convert {\n",
              "      background-color: #3B4455;\n",
              "      fill: #D2E3FC;\n",
              "    }\n",
              "\n",
              "    [theme=dark] .colab-df-convert:hover {\n",
              "      background-color: #434B5C;\n",
              "      box-shadow: 0px 1px 3px 1px rgba(0, 0, 0, 0.15);\n",
              "      filter: drop-shadow(0px 1px 2px rgba(0, 0, 0, 0.3));\n",
              "      fill: #FFFFFF;\n",
              "    }\n",
              "  </style>\n",
              "\n",
              "      <script>\n",
              "        const buttonEl =\n",
              "          document.querySelector('#df-4327c7e7-867b-4eaa-b512-c351112b1b49 button.colab-df-convert');\n",
              "        buttonEl.style.display =\n",
              "          google.colab.kernel.accessAllowed ? 'block' : 'none';\n",
              "\n",
              "        async function convertToInteractive(key) {\n",
              "          const element = document.querySelector('#df-4327c7e7-867b-4eaa-b512-c351112b1b49');\n",
              "          const dataTable =\n",
              "            await google.colab.kernel.invokeFunction('convertToInteractive',\n",
              "                                                     [key], {});\n",
              "          if (!dataTable) return;\n",
              "\n",
              "          const docLinkHtml = 'Like what you see? Visit the ' +\n",
              "            '<a target=\"_blank\" href=https://colab.research.google.com/notebooks/data_table.ipynb>data table notebook</a>'\n",
              "            + ' to learn more about interactive tables.';\n",
              "          element.innerHTML = '';\n",
              "          dataTable['output_type'] = 'display_data';\n",
              "          await google.colab.output.renderOutput(dataTable, element);\n",
              "          const docLink = document.createElement('div');\n",
              "          docLink.innerHTML = docLinkHtml;\n",
              "          element.appendChild(docLink);\n",
              "        }\n",
              "      </script>\n",
              "    </div>\n",
              "  </div>\n",
              "  "
            ]
          },
          "metadata": {},
          "execution_count": 51
        }
      ]
    },
    {
      "cell_type": "code",
      "source": [
        "buyer.isnull().sum()"
      ],
      "metadata": {
        "colab": {
          "base_uri": "https://localhost:8080/"
        },
        "id": "-TpdtZ5TCaGD",
        "outputId": "9bf61889-6dee-4c51-c271-6636b5bd8d44"
      },
      "execution_count": 53,
      "outputs": [
        {
          "output_type": "execute_result",
          "data": {
            "text/plain": [
              "Observed Values    0\n",
              "East               0\n",
              "West               0\n",
              "North              0\n",
              "South              0\n",
              "dtype: int64"
            ]
          },
          "metadata": {},
          "execution_count": 53
        }
      ]
    },
    {
      "cell_type": "code",
      "source": [
        "East=buyer['East'].mean()\n",
        "West=buyer['West'].mean()\n",
        "North=buyer['North'].mean()\n",
        "South=buyer['South'].mean()"
      ],
      "metadata": {
        "id": "_RHWMZKXCbil"
      },
      "execution_count": 54,
      "outputs": []
    },
    {
      "cell_type": "code",
      "source": [
        "print(\"East mean= {}\\nWest mean={}\\nNorth mean={}\\nSouth mean={}\".format(East,West,North,South))"
      ],
      "metadata": {
        "colab": {
          "base_uri": "https://localhost:8080/"
        },
        "id": "iXWb8eH_Crdb",
        "outputId": "6dbe4d36-5d44-4ff6-93fe-76e47d9e96b7"
      },
      "execution_count": 57,
      "outputs": [
        {
          "output_type": "stream",
          "name": "stdout",
          "text": [
            "East mean= 242.5\n",
            "West mean=832.5\n",
            "North mean=743.5\n",
            "South mean=410.0\n"
          ]
        }
      ]
    },
    {
      "cell_type": "code",
      "source": [
        "plt.figure(figsize=(10,8))\n",
        "sns.distplot(buyer['East'])\n",
        "sns.distplot(buyer['West'])\n",
        "sns.distplot(buyer['North'])\n",
        "sns.distplot(buyer['South'])\n",
        "plt.legend(['East','West','North','South']);"
      ],
      "metadata": {
        "colab": {
          "base_uri": "https://localhost:8080/",
          "height": 497
        },
        "id": "AyTi8ThvDFn6",
        "outputId": "88b83755-e173-4458-c40b-e1e109dae8c1"
      },
      "execution_count": 61,
      "outputs": [
        {
          "output_type": "display_data",
          "data": {
            "text/plain": [
              "<Figure size 720x576 with 1 Axes>"
            ],
            "image/png": "[encoded data removed]"
          },
          "metadata": {
            "needs_background": "light"
          }
        }
      ]
    },
    {
      "cell_type": "code",
      "source": [
        "plt.figure(figsize=(10,8))\n",
        "sns.boxplot(data=[buyer['East'],buyer['West'],buyer['North'],buyer['South']])\n",
        "plt.legend(['East','West','North','South']);"
      ],
      "metadata": {
        "colab": {
          "base_uri": "https://localhost:8080/",
          "height": 483
        },
        "id": "jBHAoDxiDYWV",
        "outputId": "ea0c4464-d9b4-4d35-ddc8-e6e4bdfc8f06"
      },
      "execution_count": 63,
      "outputs": [
        {
          "output_type": "display_data",
          "data": {
            "text/plain": [
              "<Figure size 720x576 with 1 Axes>"
            ],
            "image/png": "[encoded data removed]"
          },
          "metadata": {
            "needs_background": "light"
          }
        }
      ]
    },
    {
      "cell_type": "code",
      "source": [
        "alpha=0.05\n",
        "Male=[50,142,131,70]\n",
        "Female=[435,1523,1356,750]\n",
        "Sales=[Male,Female]\n",
        "print(Sales)"
      ],
      "metadata": {
        "colab": {
          "base_uri": "https://localhost:8080/"
        },
        "id": "sWwAeBfHEK1G",
        "outputId": "23ab7bc1-c9a8-475a-9921-28935299d7c7"
      },
      "execution_count": 65,
      "outputs": [
        {
          "output_type": "stream",
          "name": "stdout",
          "text": [
            "[[50, 142, 131, 70], [435, 1523, 1356, 750]]\n"
          ]
        }
      ]
    },
    {
      "cell_type": "code",
      "source": [
        "# Importing chi2_contingency\n",
        "\n",
        "from scipy.stats import chi2_contingency"
      ],
      "metadata": {
        "id": "DfSkM8WCEldZ"
      },
      "execution_count": 66,
      "outputs": []
    },
    {
      "cell_type": "code",
      "source": [
        "chi2,p,dof,expected=chi2_contingency(Sales)"
      ],
      "metadata": {
        "id": "xRHorh9lF9hV"
      },
      "execution_count": 67,
      "outputs": []
    },
    {
      "cell_type": "code",
      "source": [
        "chi2"
      ],
      "metadata": {
        "colab": {
          "base_uri": "https://localhost:8080/"
        },
        "id": "lwBxq7VPGF3k",
        "outputId": "e5908914-8a21-4399-8af6-94a4ebede473"
      },
      "execution_count": 68,
      "outputs": [
        {
          "output_type": "execute_result",
          "data": {
            "text/plain": [
              "1.595945538661058"
            ]
          },
          "metadata": {},
          "execution_count": 68
        }
      ]
    },
    {
      "cell_type": "code",
      "source": [
        "print(\"p-value:{}\\nDegrees of Freedom:{}\\nExpected Frequencies:\\n{}\".format(p,dof,expected))"
      ],
      "metadata": {
        "colab": {
          "base_uri": "https://localhost:8080/"
        },
        "id": "6zHY-_o_GHQJ",
        "outputId": "37b9484a-7581-44e1-e221-fd6439100339"
      },
      "execution_count": 74,
      "outputs": [
        {
          "output_type": "stream",
          "name": "stdout",
          "text": [
            "p-value:0.6603094907091882\n",
            "Degrees of Freedom:3\n",
            "Expected Frequencies:\n",
            "[[  42.76531299  146.81287862  131.11756787   72.30424052]\n",
            " [ 442.23468701 1518.18712138 1355.88243213  747.69575948]]\n"
          ]
        }
      ]
    },
    {
      "cell_type": "code",
      "source": [
        "chi2_contingency(Sales)"
      ],
      "metadata": {
        "colab": {
          "base_uri": "https://localhost:8080/"
        },
        "id": "QPMSM_S7GL1K",
        "outputId": "1354ced5-03aa-47bc-876d-fee509e0fd4d"
      },
      "execution_count": 75,
      "outputs": [
        {
          "output_type": "execute_result",
          "data": {
            "text/plain": [
              "(1.595945538661058,\n",
              " 0.6603094907091882,\n",
              " 3,\n",
              " array([[  42.76531299,  146.81287862,  131.11756787,   72.30424052],\n",
              "        [ 442.23468701, 1518.18712138, 1355.88243213,  747.69575948]]))"
            ]
          },
          "metadata": {},
          "execution_count": 75
        }
      ]
    },
    {
      "cell_type": "code",
      "source": [
        "# Interpreting by p-values\n",
        "alpha=0.05\n",
        "\n",
        "print('\\u03B1','=',alpha)\n",
        "print(\"p value is:\",np.round(p,4))\n",
        "if p<=alpha:\n",
        "  print(\"We reject Null Hypothesis i.e., Not all Proportions are equal.\")\n",
        "else:\n",
        "  print(\"We accept Null Hypothesis i.e., All proportions are equal.\")"
      ],
      "metadata": {
        "colab": {
          "base_uri": "https://localhost:8080/"
        },
        "id": "_nyiGH-9Iu1-",
        "outputId": "60ecf328-2887-4086-c020-bdd59835d33d"
      },
      "execution_count": 89,
      "outputs": [
        {
          "output_type": "stream",
          "name": "stdout",
          "text": [
            "α = 0.05\n",
            "p value is: 0.6603\n",
            "We accept Null Hypothesis i.e., All proportions are equal.\n"
          ]
        }
      ]
    },
    {
      "cell_type": "markdown",
      "source": [
        "**Conclusion: We accept Null Hypothesis i.e., All Proportions are equal.**"
      ],
      "metadata": {
        "id": "LWcMloRTLzUG"
      }
    },
    {
      "cell_type": "markdown",
      "source": [
        "# ***Question 4***\n",
        "\n",
        "> # *TeleCall uses 4 centers around the globe to process customer order forms.They audit a certain % of the customer order forms.Any error in order form renders it defective and has to be reworked before processing.The manager wants to check whether the defective % varies by centre.Please analyaze the data at 5% significance level and help the manager draw at 5% significance level and help the manager draw appropriate inference.* \n",
        "\n",
        "> **Answer:** We are going to conduct a tesy of independence using $\\chi^2$ test with contingency table.\n",
        "\n",
        "# ***Step 1***\n",
        "\n",
        "1. Make two Hypothesis one contradicting to other.\n",
        "\n",
        "2. Null Hypothesis is what we want to prove.\n",
        "\n",
        "3. Null Hypothesis: $M1=M2=M3=M4$.\n",
        "\n",
        "4. Alternative Hypothesis: Atleast One of them is different.\n",
        "\n",
        "# ***Step 2***\n",
        "\n",
        "1. Decide a cut-off value.\n",
        "\n",
        "2. Significance 5%.\n",
        "\n",
        "3. $\\alpha=0.05$.\n",
        "\n",
        "# ***Step 3***\n",
        "\n",
        "1. Collect Evidence. "
      ],
      "metadata": {
        "id": "OqvsekF9M8-B"
      }
    },
    {
      "cell_type": "code",
      "source": [
        "from google.colab import files\n",
        "uploaded=files.upload()"
      ],
      "metadata": {
        "colab": {
          "base_uri": "https://localhost:8080/",
          "height": 74
        },
        "id": "DAr9UKvtJAXW",
        "outputId": "b3bff287-ab88-4b82-d7ec-76ac38353ef6"
      },
      "execution_count": 90,
      "outputs": [
        {
          "output_type": "display_data",
          "data": {
            "text/plain": [
              "<IPython.core.display.HTML object>"
            ],
            "text/html": [
              "\n",
              "     <input type=\"file\" id=\"files-1e916da4-8548-45cc-ae53-38ff588f978d\" name=\"files[]\" multiple disabled\n",
              "        style=\"border:none\" />\n",
              "     <output id=\"result-1e916da4-8548-45cc-ae53-38ff588f978d\">\n",
              "      Upload widget is only available when the cell has been executed in the\n",
              "      current browser session. Please rerun this cell to enable.\n",
              "      </output>\n",
              "      <script>// Copyright 2017 Google LLC\n",
              "//\n",
              "// Licensed under the Apache License, Version 2.0 (the \"License\");\n",
              "// you may not use this file except in compliance with the License.\n",
              "// You may obtain a copy of the License at\n",
              "//\n",
              "//      http://www.apache.org/licenses/LICENSE-2.0\n",
              "//\n",
              "// Unless required by applicable law or agreed to in writing, software\n",
              "// distributed under the License is distributed on an \"AS IS\" BASIS,\n",
              "// WITHOUT WARRANTIES OR CONDITIONS OF ANY KIND, either express or implied.\n",
              "// See the License for the specific language governing permissions and\n",
              "// limitations under the License.\n",
              "\n",
              "/**\n",
              " * @fileoverview Helpers for google.colab Python module.\n",
              " */\n",
              "(function(scope) {\n",
              "function span(text, styleAttributes = {}) {\n",
              "  const element = document.createElement('span');\n",
              "  element.textContent = text;\n",
              "  for (const key of Object.keys(styleAttributes)) {\n",
              "    element.style[key] = styleAttributes[key];\n",
              "  }\n",
              "  return element;\n",
              "}\n",
              "\n",
              "// Max number of bytes which will be uploaded at a time.\n",
              "const MAX_PAYLOAD_SIZE = 100 * 1024;\n",
              "\n",
              "function _uploadFiles(inputId, outputId) {\n",
              "  const steps = uploadFilesStep(inputId, outputId);\n",
              "  const outputElement = document.getElementById(outputId);\n",
              "  // Cache steps on the outputElement to make it available for the next call\n",
              "  // to uploadFilesContinue from Python.\n",
              "  outputElement.steps = steps;\n",
              "\n",
              "  return _uploadFilesContinue(outputId);\n",
              "}\n",
              "\n",
              "// This is roughly an async generator (not supported in the browser yet),\n",
              "// where there are multiple asynchronous steps and the Python side is going\n",
              "// to poll for completion of each step.\n",
              "// This uses a Promise to block the python side on completion of each step,\n",
              "// then passes the result of the previous step as the input to the next step.\n",
              "function _uploadFilesContinue(outputId) {\n",
              "  const outputElement = document.getElementById(outputId);\n",
              "  const steps = outputElement.steps;\n",
              "\n",
              "  const next = steps.next(outputElement.lastPromiseValue);\n",
              "  return Promise.resolve(next.value.promise).then((value) => {\n",
              "    // Cache the last promise value to make it available to the next\n",
              "    // step of the generator.\n",
              "    outputElement.lastPromiseValue = value;\n",
              "    return next.value.response;\n",
              "  });\n",
              "}\n",
              "\n",
              "/**\n",
              " * Generator function which is called between each async step of the upload\n",
              " * process.\n",
              " * @param {string} inputId Element ID of the input file picker element.\n",
              " * @param {string} outputId Element ID of the output display.\n",
              " * @return {!Iterable<!Object>} Iterable of next steps.\n",
              " */\n",
              "function* uploadFilesStep(inputId, outputId) {\n",
              "  const inputElement = document.getElementById(inputId);\n",
              "  inputElement.disabled = false;\n",
              "\n",
              "  const outputElement = document.getElementById(outputId);\n",
              "  outputElement.innerHTML = '';\n",
              "\n",
              "  const pickedPromise = new Promise((resolve) => {\n",
              "    inputElement.addEventListener('change', (e) => {\n",
              "      resolve(e.target.files);\n",
              "    });\n",
              "  });\n",
              "\n",
              "  const cancel = document.createElement('button');\n",
              "  inputElement.parentElement.appendChild(cancel);\n",
              "  cancel.textContent = 'Cancel upload';\n",
              "  const cancelPromise = new Promise((resolve) => {\n",
              "    cancel.onclick = () => {\n",
              "      resolve(null);\n",
              "    };\n",
              "  });\n",
              "\n",
              "  // Wait for the user to pick the files.\n",
              "  const files = yield {\n",
              "    promise: Promise.race([pickedPromise, cancelPromise]),\n",
              "    response: {\n",
              "      action: 'starting',\n",
              "    }\n",
              "  };\n",
              "\n",
              "  cancel.remove();\n",
              "\n",
              "  // Disable the input element since further picks are not allowed.\n",
              "  inputElement.disabled = true;\n",
              "\n",
              "  if (!files) {\n",
              "    return {\n",
              "      response: {\n",
              "        action: 'complete',\n",
              "      }\n",
              "    };\n",
              "  }\n",
              "\n",
              "  for (const file of files) {\n",
              "    const li = document.createElement('li');\n",
              "    li.append(span(file.name, {fontWeight: 'bold'}));\n",
              "    li.append(span(\n",
              "        `(${file.type || 'n/a'}) - ${file.size} bytes, ` +\n",
              "        `last modified: ${\n",
              "            file.lastModifiedDate ? file.lastModifiedDate.toLocaleDateString() :\n",
              "                                    'n/a'} - `));\n",
              "    const percent = span('0% done');\n",
              "    li.appendChild(percent);\n",
              "\n",
              "    outputElement.appendChild(li);\n",
              "\n",
              "    const fileDataPromise = new Promise((resolve) => {\n",
              "      const reader = new FileReader();\n",
              "      reader.onload = (e) => {\n",
              "        resolve(e.target.result);\n",
              "      };\n",
              "      reader.readAsArrayBuffer(file);\n",
              "    });\n",
              "    // Wait for the data to be ready.\n",
              "    let fileData = yield {\n",
              "      promise: fileDataPromise,\n",
              "      response: {\n",
              "        action: 'continue',\n",
              "      }\n",
              "    };\n",
              "\n",
              "    // Use a chunked sending to avoid message size limits. See b/62115660.\n",
              "    let position = 0;\n",
              "    do {\n",
              "      const length = Math.min(fileData.byteLength - position, MAX_PAYLOAD_SIZE);\n",
              "      const chunk = new Uint8Array(fileData, position, length);\n",
              "      position += length;\n",
              "\n",
              "      const base64 = btoa(String.fromCharCode.apply(null, chunk));\n",
              "      yield {\n",
              "        response: {\n",
              "          action: 'append',\n",
              "          file: file.name,\n",
              "          data: base64,\n",
              "        },\n",
              "      };\n",
              "\n",
              "      let percentDone = fileData.byteLength === 0 ?\n",
              "          100 :\n",
              "          Math.round((position / fileData.byteLength) * 100);\n",
              "      percent.textContent = `${percentDone}% done`;\n",
              "\n",
              "    } while (position < fileData.byteLength);\n",
              "  }\n",
              "\n",
              "  // All done.\n",
              "  yield {\n",
              "    response: {\n",
              "      action: 'complete',\n",
              "    }\n",
              "  };\n",
              "}\n",
              "\n",
              "scope.google = scope.google || {};\n",
              "scope.google.colab = scope.google.colab || {};\n",
              "scope.google.colab._files = {\n",
              "  _uploadFiles,\n",
              "  _uploadFilesContinue,\n",
              "};\n",
              "})(self);\n",
              "</script> "
            ]
          },
          "metadata": {}
        },
        {
          "output_type": "stream",
          "name": "stdout",
          "text": [
            "Saving Costomer+OrderForm.csv to Costomer+OrderForm.csv\n"
          ]
        }
      ]
    },
    {
      "cell_type": "code",
      "source": [
        "df=pd.read_csv(\"Costomer+OrderForm.csv\")"
      ],
      "metadata": {
        "id": "sRnx6RS8N4VF"
      },
      "execution_count": 92,
      "outputs": []
    },
    {
      "cell_type": "code",
      "source": [
        "df.head()"
      ],
      "metadata": {
        "colab": {
          "base_uri": "https://localhost:8080/",
          "height": 206
        },
        "id": "NSLOAPKZODNP",
        "outputId": "0510b7dd-f954-426d-b0f8-7c406c8c85ac"
      },
      "execution_count": 94,
      "outputs": [
        {
          "output_type": "execute_result",
          "data": {
            "text/plain": [
              "  Phillippines   Indonesia       Malta       India\n",
              "0   Error Free  Error Free   Defective  Error Free\n",
              "1   Error Free  Error Free  Error Free   Defective\n",
              "2   Error Free   Defective   Defective  Error Free\n",
              "3   Error Free  Error Free  Error Free  Error Free\n",
              "4   Error Free  Error Free   Defective  Error Free"
            ],
            "text/html": [
              "\n",
              "  <div id=\"df-cb91a7c7-0f87-4064-9cf1-0d7deaef7816\">\n",
              "    <div class=\"colab-df-container\">\n",
              "      <div>\n",
              "<style scoped>\n",
              "    .dataframe tbody tr th:only-of-type {\n",
              "        vertical-align: middle;\n",
              "    }\n",
              "\n",
              "    .dataframe tbody tr th {\n",
              "        vertical-align: top;\n",
              "    }\n",
              "\n",
              "    .dataframe thead th {\n",
              "        text-align: right;\n",
              "    }\n",
              "</style>\n",
              "<table border=\"1\" class=\"dataframe\">\n",
              "  <thead>\n",
              "    <tr style=\"text-align: right;\">\n",
              "      <th></th>\n",
              "      <th>Phillippines</th>\n",
              "      <th>Indonesia</th>\n",
              "      <th>Malta</th>\n",
              "      <th>India</th>\n",
              "    </tr>\n",
              "  </thead>\n",
              "  <tbody>\n",
              "    <tr>\n",
              "      <th>0</th>\n",
              "      <td>Error Free</td>\n",
              "      <td>Error Free</td>\n",
              "      <td>Defective</td>\n",
              "      <td>Error Free</td>\n",
              "    </tr>\n",
              "    <tr>\n",
              "      <th>1</th>\n",
              "      <td>Error Free</td>\n",
              "      <td>Error Free</td>\n",
              "      <td>Error Free</td>\n",
              "      <td>Defective</td>\n",
              "    </tr>\n",
              "    <tr>\n",
              "      <th>2</th>\n",
              "      <td>Error Free</td>\n",
              "      <td>Defective</td>\n",
              "      <td>Defective</td>\n",
              "      <td>Error Free</td>\n",
              "    </tr>\n",
              "    <tr>\n",
              "      <th>3</th>\n",
              "      <td>Error Free</td>\n",
              "      <td>Error Free</td>\n",
              "      <td>Error Free</td>\n",
              "      <td>Error Free</td>\n",
              "    </tr>\n",
              "    <tr>\n",
              "      <th>4</th>\n",
              "      <td>Error Free</td>\n",
              "      <td>Error Free</td>\n",
              "      <td>Defective</td>\n",
              "      <td>Error Free</td>\n",
              "    </tr>\n",
              "  </tbody>\n",
              "</table>\n",
              "</div>\n",
              "      <button class=\"colab-df-convert\" onclick=\"convertToInteractive('df-cb91a7c7-0f87-4064-9cf1-0d7deaef7816')\"\n",
              "              title=\"Convert this dataframe to an interactive table.\"\n",
              "              style=\"display:none;\">\n",
              "        \n",
              "  <svg xmlns=\"http://www.w3.org/2000/svg\" height=\"24px\"viewBox=\"0 0 24 24\"\n",
              "       width=\"24px\">\n",
              "    <path d=\"M0 0h24v24H0V0z\" fill=\"none\"/>\n",
              "    <path d=\"M18.56 5.44l.94 2.06.94-2.06 2.06-.94-2.06-.94-.94-2.06-.94 2.06-2.06.94zm-11 1L8.5 8.5l.94-2.06 2.06-.94-2.06-.94L8.5 2.5l-.94 2.06-2.06.94zm10 10l.94 2.06.94-2.06 2.06-.94-2.06-.94-.94-2.06-.94 2.06-2.06.94z\"/><path d=\"M17.41 7.96l-1.37-1.37c-.4-.4-.92-.59-1.43-.59-.52 0-1.04.2-1.43.59L10.3 9.45l-7.72 7.72c-.78.78-.78 2.05 0 2.83L4 21.41c.39.39.9.59 1.41.59.51 0 1.02-.2 1.41-.59l7.78-7.78 2.81-2.81c.8-.78.8-2.07 0-2.86zM5.41 20L4 18.59l7.72-7.72 1.47 1.35L5.41 20z\"/>\n",
              "  </svg>\n",
              "      </button>\n",
              "      \n",
              "  <style>\n",
              "    .colab-df-container {\n",
              "      display:flex;\n",
              "      flex-wrap:wrap;\n",
              "      gap: 12px;\n",
              "    }\n",
              "\n",
              "    .colab-df-convert {\n",
              "      background-color: #E8F0FE;\n",
              "      border: none;\n",
              "      border-radius: 50%;\n",
              "      cursor: pointer;\n",
              "      display: none;\n",
              "      fill: #1967D2;\n",
              "      height: 32px;\n",
              "      padding: 0 0 0 0;\n",
              "      width: 32px;\n",
              "    }\n",
              "\n",
              "    .colab-df-convert:hover {\n",
              "      background-color: #E2EBFA;\n",
              "      box-shadow: 0px 1px 2px rgba(60, 64, 67, 0.3), 0px 1px 3px 1px rgba(60, 64, 67, 0.15);\n",
              "      fill: #174EA6;\n",
              "    }\n",
              "\n",
              "    [theme=dark] .colab-df-convert {\n",
              "      background-color: #3B4455;\n",
              "      fill: #D2E3FC;\n",
              "    }\n",
              "\n",
              "    [theme=dark] .colab-df-convert:hover {\n",
              "      background-color: #434B5C;\n",
              "      box-shadow: 0px 1px 3px 1px rgba(0, 0, 0, 0.15);\n",
              "      filter: drop-shadow(0px 1px 2px rgba(0, 0, 0, 0.3));\n",
              "      fill: #FFFFFF;\n",
              "    }\n",
              "  </style>\n",
              "\n",
              "      <script>\n",
              "        const buttonEl =\n",
              "          document.querySelector('#df-cb91a7c7-0f87-4064-9cf1-0d7deaef7816 button.colab-df-convert');\n",
              "        buttonEl.style.display =\n",
              "          google.colab.kernel.accessAllowed ? 'block' : 'none';\n",
              "\n",
              "        async function convertToInteractive(key) {\n",
              "          const element = document.querySelector('#df-cb91a7c7-0f87-4064-9cf1-0d7deaef7816');\n",
              "          const dataTable =\n",
              "            await google.colab.kernel.invokeFunction('convertToInteractive',\n",
              "                                                     [key], {});\n",
              "          if (!dataTable) return;\n",
              "\n",
              "          const docLinkHtml = 'Like what you see? Visit the ' +\n",
              "            '<a target=\"_blank\" href=https://colab.research.google.com/notebooks/data_table.ipynb>data table notebook</a>'\n",
              "            + ' to learn more about interactive tables.';\n",
              "          element.innerHTML = '';\n",
              "          dataTable['output_type'] = 'display_data';\n",
              "          await google.colab.output.renderOutput(dataTable, element);\n",
              "          const docLink = document.createElement('div');\n",
              "          docLink.innerHTML = docLinkHtml;\n",
              "          element.appendChild(docLink);\n",
              "        }\n",
              "      </script>\n",
              "    </div>\n",
              "  </div>\n",
              "  "
            ]
          },
          "metadata": {},
          "execution_count": 94
        }
      ]
    },
    {
      "cell_type": "code",
      "source": [
        "df.describe()"
      ],
      "metadata": {
        "colab": {
          "base_uri": "https://localhost:8080/",
          "height": 175
        },
        "id": "oioWZsDEOK2T",
        "outputId": "0fac539b-ed1e-423b-8554-439548d8c851"
      },
      "execution_count": 95,
      "outputs": [
        {
          "output_type": "execute_result",
          "data": {
            "text/plain": [
              "       Phillippines   Indonesia       Malta       India\n",
              "count           300         300         300         300\n",
              "unique            2           2           2           2\n",
              "top      Error Free  Error Free  Error Free  Error Free\n",
              "freq            271         267         269         280"
            ],
            "text/html": [
              "\n",
              "  <div id=\"df-6e9d4724-a9fa-42a3-8fcf-88d936b72a97\">\n",
              "    <div class=\"colab-df-container\">\n",
              "      <div>\n",
              "<style scoped>\n",
              "    .dataframe tbody tr th:only-of-type {\n",
              "        vertical-align: middle;\n",
              "    }\n",
              "\n",
              "    .dataframe tbody tr th {\n",
              "        vertical-align: top;\n",
              "    }\n",
              "\n",
              "    .dataframe thead th {\n",
              "        text-align: right;\n",
              "    }\n",
              "</style>\n",
              "<table border=\"1\" class=\"dataframe\">\n",
              "  <thead>\n",
              "    <tr style=\"text-align: right;\">\n",
              "      <th></th>\n",
              "      <th>Phillippines</th>\n",
              "      <th>Indonesia</th>\n",
              "      <th>Malta</th>\n",
              "      <th>India</th>\n",
              "    </tr>\n",
              "  </thead>\n",
              "  <tbody>\n",
              "    <tr>\n",
              "      <th>count</th>\n",
              "      <td>300</td>\n",
              "      <td>300</td>\n",
              "      <td>300</td>\n",
              "      <td>300</td>\n",
              "    </tr>\n",
              "    <tr>\n",
              "      <th>unique</th>\n",
              "      <td>2</td>\n",
              "      <td>2</td>\n",
              "      <td>2</td>\n",
              "      <td>2</td>\n",
              "    </tr>\n",
              "    <tr>\n",
              "      <th>top</th>\n",
              "      <td>Error Free</td>\n",
              "      <td>Error Free</td>\n",
              "      <td>Error Free</td>\n",
              "      <td>Error Free</td>\n",
              "    </tr>\n",
              "    <tr>\n",
              "      <th>freq</th>\n",
              "      <td>271</td>\n",
              "      <td>267</td>\n",
              "      <td>269</td>\n",
              "      <td>280</td>\n",
              "    </tr>\n",
              "  </tbody>\n",
              "</table>\n",
              "</div>\n",
              "      <button class=\"colab-df-convert\" onclick=\"convertToInteractive('df-6e9d4724-a9fa-42a3-8fcf-88d936b72a97')\"\n",
              "              title=\"Convert this dataframe to an interactive table.\"\n",
              "              style=\"display:none;\">\n",
              "        \n",
              "  <svg xmlns=\"http://www.w3.org/2000/svg\" height=\"24px\"viewBox=\"0 0 24 24\"\n",
              "       width=\"24px\">\n",
              "    <path d=\"M0 0h24v24H0V0z\" fill=\"none\"/>\n",
              "    <path d=\"M18.56 5.44l.94 2.06.94-2.06 2.06-.94-2.06-.94-.94-2.06-.94 2.06-2.06.94zm-11 1L8.5 8.5l.94-2.06 2.06-.94-2.06-.94L8.5 2.5l-.94 2.06-2.06.94zm10 10l.94 2.06.94-2.06 2.06-.94-2.06-.94-.94-2.06-.94 2.06-2.06.94z\"/><path d=\"M17.41 7.96l-1.37-1.37c-.4-.4-.92-.59-1.43-.59-.52 0-1.04.2-1.43.59L10.3 9.45l-7.72 7.72c-.78.78-.78 2.05 0 2.83L4 21.41c.39.39.9.59 1.41.59.51 0 1.02-.2 1.41-.59l7.78-7.78 2.81-2.81c.8-.78.8-2.07 0-2.86zM5.41 20L4 18.59l7.72-7.72 1.47 1.35L5.41 20z\"/>\n",
              "  </svg>\n",
              "      </button>\n",
              "      \n",
              "  <style>\n",
              "    .colab-df-container {\n",
              "      display:flex;\n",
              "      flex-wrap:wrap;\n",
              "      gap: 12px;\n",
              "    }\n",
              "\n",
              "    .colab-df-convert {\n",
              "      background-color: #E8F0FE;\n",
              "      border: none;\n",
              "      border-radius: 50%;\n",
              "      cursor: pointer;\n",
              "      display: none;\n",
              "      fill: #1967D2;\n",
              "      height: 32px;\n",
              "      padding: 0 0 0 0;\n",
              "      width: 32px;\n",
              "    }\n",
              "\n",
              "    .colab-df-convert:hover {\n",
              "      background-color: #E2EBFA;\n",
              "      box-shadow: 0px 1px 2px rgba(60, 64, 67, 0.3), 0px 1px 3px 1px rgba(60, 64, 67, 0.15);\n",
              "      fill: #174EA6;\n",
              "    }\n",
              "\n",
              "    [theme=dark] .colab-df-convert {\n",
              "      background-color: #3B4455;\n",
              "      fill: #D2E3FC;\n",
              "    }\n",
              "\n",
              "    [theme=dark] .colab-df-convert:hover {\n",
              "      background-color: #434B5C;\n",
              "      box-shadow: 0px 1px 3px 1px rgba(0, 0, 0, 0.15);\n",
              "      filter: drop-shadow(0px 1px 2px rgba(0, 0, 0, 0.3));\n",
              "      fill: #FFFFFF;\n",
              "    }\n",
              "  </style>\n",
              "\n",
              "      <script>\n",
              "        const buttonEl =\n",
              "          document.querySelector('#df-6e9d4724-a9fa-42a3-8fcf-88d936b72a97 button.colab-df-convert');\n",
              "        buttonEl.style.display =\n",
              "          google.colab.kernel.accessAllowed ? 'block' : 'none';\n",
              "\n",
              "        async function convertToInteractive(key) {\n",
              "          const element = document.querySelector('#df-6e9d4724-a9fa-42a3-8fcf-88d936b72a97');\n",
              "          const dataTable =\n",
              "            await google.colab.kernel.invokeFunction('convertToInteractive',\n",
              "                                                     [key], {});\n",
              "          if (!dataTable) return;\n",
              "\n",
              "          const docLinkHtml = 'Like what you see? Visit the ' +\n",
              "            '<a target=\"_blank\" href=https://colab.research.google.com/notebooks/data_table.ipynb>data table notebook</a>'\n",
              "            + ' to learn more about interactive tables.';\n",
              "          element.innerHTML = '';\n",
              "          dataTable['output_type'] = 'display_data';\n",
              "          await google.colab.output.renderOutput(dataTable, element);\n",
              "          const docLink = document.createElement('div');\n",
              "          docLink.innerHTML = docLinkHtml;\n",
              "          element.appendChild(docLink);\n",
              "        }\n",
              "      </script>\n",
              "    </div>\n",
              "  </div>\n",
              "  "
            ]
          },
          "metadata": {},
          "execution_count": 95
        }
      ]
    },
    {
      "cell_type": "code",
      "source": [
        "df.info()"
      ],
      "metadata": {
        "colab": {
          "base_uri": "https://localhost:8080/"
        },
        "id": "p-tFcFzQOSIF",
        "outputId": "a27096cc-9784-4bbd-80fc-1a6edeca9d73"
      },
      "execution_count": 96,
      "outputs": [
        {
          "output_type": "stream",
          "name": "stdout",
          "text": [
            "<class 'pandas.core.frame.DataFrame'>\n",
            "RangeIndex: 300 entries, 0 to 299\n",
            "Data columns (total 4 columns):\n",
            " #   Column        Non-Null Count  Dtype \n",
            "---  ------        --------------  ----- \n",
            " 0   Phillippines  300 non-null    object\n",
            " 1   Indonesia     300 non-null    object\n",
            " 2   Malta         300 non-null    object\n",
            " 3   India         300 non-null    object\n",
            "dtypes: object(4)\n",
            "memory usage: 9.5+ KB\n"
          ]
        }
      ]
    },
    {
      "cell_type": "code",
      "source": [
        "df.isnull().sum()"
      ],
      "metadata": {
        "colab": {
          "base_uri": "https://localhost:8080/"
        },
        "id": "dkYlmnYNOZ1Z",
        "outputId": "85957340-076d-4848-f569-6be76820a5ab"
      },
      "execution_count": 97,
      "outputs": [
        {
          "output_type": "execute_result",
          "data": {
            "text/plain": [
              "Phillippines    0\n",
              "Indonesia       0\n",
              "Malta           0\n",
              "India           0\n",
              "dtype: int64"
            ]
          },
          "metadata": {},
          "execution_count": 97
        }
      ]
    },
    {
      "cell_type": "code",
      "source": [
        "df[df.isnull().any(axis=1)]"
      ],
      "metadata": {
        "colab": {
          "base_uri": "https://localhost:8080/",
          "height": 49
        },
        "id": "q2gqvbj3Obp9",
        "outputId": "c892d515-16c7-4adf-c6ff-22ae4bee21d3"
      },
      "execution_count": 98,
      "outputs": [
        {
          "output_type": "execute_result",
          "data": {
            "text/plain": [
              "Empty DataFrame\n",
              "Columns: [Phillippines, Indonesia, Malta, India]\n",
              "Index: []"
            ],
            "text/html": [
              "\n",
              "  <div id=\"df-807e2c68-aacf-45a9-9391-5fa479c10319\">\n",
              "    <div class=\"colab-df-container\">\n",
              "      <div>\n",
              "<style scoped>\n",
              "    .dataframe tbody tr th:only-of-type {\n",
              "        vertical-align: middle;\n",
              "    }\n",
              "\n",
              "    .dataframe tbody tr th {\n",
              "        vertical-align: top;\n",
              "    }\n",
              "\n",
              "    .dataframe thead th {\n",
              "        text-align: right;\n",
              "    }\n",
              "</style>\n",
              "<table border=\"1\" class=\"dataframe\">\n",
              "  <thead>\n",
              "    <tr style=\"text-align: right;\">\n",
              "      <th></th>\n",
              "      <th>Phillippines</th>\n",
              "      <th>Indonesia</th>\n",
              "      <th>Malta</th>\n",
              "      <th>India</th>\n",
              "    </tr>\n",
              "  </thead>\n",
              "  <tbody>\n",
              "  </tbody>\n",
              "</table>\n",
              "</div>\n",
              "      <button class=\"colab-df-convert\" onclick=\"convertToInteractive('df-807e2c68-aacf-45a9-9391-5fa479c10319')\"\n",
              "              title=\"Convert this dataframe to an interactive table.\"\n",
              "              style=\"display:none;\">\n",
              "        \n",
              "  <svg xmlns=\"http://www.w3.org/2000/svg\" height=\"24px\"viewBox=\"0 0 24 24\"\n",
              "       width=\"24px\">\n",
              "    <path d=\"M0 0h24v24H0V0z\" fill=\"none\"/>\n",
              "    <path d=\"M18.56 5.44l.94 2.06.94-2.06 2.06-.94-2.06-.94-.94-2.06-.94 2.06-2.06.94zm-11 1L8.5 8.5l.94-2.06 2.06-.94-2.06-.94L8.5 2.5l-.94 2.06-2.06.94zm10 10l.94 2.06.94-2.06 2.06-.94-2.06-.94-.94-2.06-.94 2.06-2.06.94z\"/><path d=\"M17.41 7.96l-1.37-1.37c-.4-.4-.92-.59-1.43-.59-.52 0-1.04.2-1.43.59L10.3 9.45l-7.72 7.72c-.78.78-.78 2.05 0 2.83L4 21.41c.39.39.9.59 1.41.59.51 0 1.02-.2 1.41-.59l7.78-7.78 2.81-2.81c.8-.78.8-2.07 0-2.86zM5.41 20L4 18.59l7.72-7.72 1.47 1.35L5.41 20z\"/>\n",
              "  </svg>\n",
              "      </button>\n",
              "      \n",
              "  <style>\n",
              "    .colab-df-container {\n",
              "      display:flex;\n",
              "      flex-wrap:wrap;\n",
              "      gap: 12px;\n",
              "    }\n",
              "\n",
              "    .colab-df-convert {\n",
              "      background-color: #E8F0FE;\n",
              "      border: none;\n",
              "      border-radius: 50%;\n",
              "      cursor: pointer;\n",
              "      display: none;\n",
              "      fill: #1967D2;\n",
              "      height: 32px;\n",
              "      padding: 0 0 0 0;\n",
              "      width: 32px;\n",
              "    }\n",
              "\n",
              "    .colab-df-convert:hover {\n",
              "      background-color: #E2EBFA;\n",
              "      box-shadow: 0px 1px 2px rgba(60, 64, 67, 0.3), 0px 1px 3px 1px rgba(60, 64, 67, 0.15);\n",
              "      fill: #174EA6;\n",
              "    }\n",
              "\n",
              "    [theme=dark] .colab-df-convert {\n",
              "      background-color: #3B4455;\n",
              "      fill: #D2E3FC;\n",
              "    }\n",
              "\n",
              "    [theme=dark] .colab-df-convert:hover {\n",
              "      background-color: #434B5C;\n",
              "      box-shadow: 0px 1px 3px 1px rgba(0, 0, 0, 0.15);\n",
              "      filter: drop-shadow(0px 1px 2px rgba(0, 0, 0, 0.3));\n",
              "      fill: #FFFFFF;\n",
              "    }\n",
              "  </style>\n",
              "\n",
              "      <script>\n",
              "        const buttonEl =\n",
              "          document.querySelector('#df-807e2c68-aacf-45a9-9391-5fa479c10319 button.colab-df-convert');\n",
              "        buttonEl.style.display =\n",
              "          google.colab.kernel.accessAllowed ? 'block' : 'none';\n",
              "\n",
              "        async function convertToInteractive(key) {\n",
              "          const element = document.querySelector('#df-807e2c68-aacf-45a9-9391-5fa479c10319');\n",
              "          const dataTable =\n",
              "            await google.colab.kernel.invokeFunction('convertToInteractive',\n",
              "                                                     [key], {});\n",
              "          if (!dataTable) return;\n",
              "\n",
              "          const docLinkHtml = 'Like what you see? Visit the ' +\n",
              "            '<a target=\"_blank\" href=https://colab.research.google.com/notebooks/data_table.ipynb>data table notebook</a>'\n",
              "            + ' to learn more about interactive tables.';\n",
              "          element.innerHTML = '';\n",
              "          dataTable['output_type'] = 'display_data';\n",
              "          await google.colab.output.renderOutput(dataTable, element);\n",
              "          const docLink = document.createElement('div');\n",
              "          docLink.innerHTML = docLinkHtml;\n",
              "          element.appendChild(docLink);\n",
              "        }\n",
              "      </script>\n",
              "    </div>\n",
              "  </div>\n",
              "  "
            ]
          },
          "metadata": {},
          "execution_count": 98
        }
      ]
    },
    {
      "cell_type": "code",
      "source": [
        "# Getting value counts for different columns\n",
        "\n",
        "print(df['Phillippines'].value_counts(),'\\n',df['Indonesia'].value_counts(),'\\n',df['Malta'].value_counts(),'\\n',df['India'].value_counts(),'\\n',)"
      ],
      "metadata": {
        "colab": {
          "base_uri": "https://localhost:8080/"
        },
        "id": "042TFxyBOfqQ",
        "outputId": "69e8b5d9-253c-49d8-c3bd-7b1a9004145f"
      },
      "execution_count": 101,
      "outputs": [
        {
          "output_type": "stream",
          "name": "stdout",
          "text": [
            "Error Free    271\n",
            "Defective      29\n",
            "Name: Phillippines, dtype: int64 \n",
            " Error Free    267\n",
            "Defective      33\n",
            "Name: Indonesia, dtype: int64 \n",
            " Error Free    269\n",
            "Defective      31\n",
            "Name: Malta, dtype: int64 \n",
            " Error Free    280\n",
            "Defective      20\n",
            "Name: India, dtype: int64 \n",
            "\n"
          ]
        }
      ]
    },
    {
      "cell_type": "code",
      "source": [
        "# Creating Contingency Table\n",
        "\n",
        "Free_Error=[271,267,269,280]\n",
        "Defective=[29,33,31,20]\n",
        "\n",
        "table=[Free_Error,Defective]\n",
        "print(table)"
      ],
      "metadata": {
        "colab": {
          "base_uri": "https://localhost:8080/"
        },
        "id": "ihEelgBOPNml",
        "outputId": "0ef06a62-e56f-4015-da1e-ca9ee31d718d"
      },
      "execution_count": 104,
      "outputs": [
        {
          "output_type": "stream",
          "name": "stdout",
          "text": [
            "[[271, 267, 269, 280], [29, 33, 31, 20]]\n"
          ]
        }
      ]
    },
    {
      "cell_type": "code",
      "source": [
        "chi2,p,dof,expected=chi2_contingency(table)"
      ],
      "metadata": {
        "id": "4YueLUSfQhyi"
      },
      "execution_count": 105,
      "outputs": []
    },
    {
      "cell_type": "code",
      "source": [
        "print(\"Statistic:{}\\np-value:{}\\nDegrees of Freedom:{}\\nExpected Frequencies:\\n{}\".format(chi2,p,dof,expected))"
      ],
      "metadata": {
        "colab": {
          "base_uri": "https://localhost:8080/"
        },
        "id": "SsLwViYHRSJP",
        "outputId": "6253e981-c90f-4809-baf4-955ca55556a5"
      },
      "execution_count": 108,
      "outputs": [
        {
          "output_type": "stream",
          "name": "stdout",
          "text": [
            "Statistic:3.858960685820355\n",
            "p-value:0.2771020991233135\n",
            "Degrees of Freedom:3\n",
            "Expected Frequencies:\n",
            "[[271.75 271.75 271.75 271.75]\n",
            " [ 28.25  28.25  28.25  28.25]]\n"
          ]
        }
      ]
    },
    {
      "cell_type": "code",
      "source": [
        "alpha=0.05\n",
        "print(\"\\u03B1=%0.3f, p=%0.3f\" %(alpha,p))\n",
        "\n",
        "if chi2_contingency(table)[1] <=alpha:\n",
        "  print('We reject Null Hypothesis, there is a significance difference between TAT of reports of the laboratories') \n",
        "else:\n",
        "  print(\"We fail to reject Null Hypothesis\")"
      ],
      "metadata": {
        "colab": {
          "base_uri": "https://localhost:8080/"
        },
        "id": "PLHZ8WjeRNC-",
        "outputId": "8c927d7d-8b32-4c0e-8989-cb9bb44a7020"
      },
      "execution_count": 117,
      "outputs": [
        {
          "output_type": "stream",
          "name": "stdout",
          "text": [
            "α=0.050, p=0.277\n",
            "We fail to reject Null Hypothesis\n"
          ]
        }
      ]
    }
  ]
}